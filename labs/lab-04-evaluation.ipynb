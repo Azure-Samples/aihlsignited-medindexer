{
 "cells": [
  {
   "cell_type": "markdown",
   "metadata": {},
   "source": [
    "## 📚 Prerequisites\n",
    "\n",
    "Before executing this notebook, make sure you have properly set up your Azure Services, created your Conda environment, and configured your environment variables as per the instructions provided in the [README.md](README.md) file.\n"
   ]
  },
  {
   "metadata": {},
   "cell_type": "markdown",
   "source": [
    "# 📕 Table of Contents\n",
    "\n",
    "1. [Understanding Quantitative Measures of Relevance](#-Understanding-Quantitative-Measures-of-Relevance)\n",
    "2. [Dataset Creation](#-Dataset-Creation)\n",
    "3. [0. Benchmark Setup](#-0-Benchmark-Setup)\n",
    "4. [1. Generate Corpus of Documents](#-1-Generate-Corpus-of-Documents)\n",
    "5. [2. Generate Queries for Evaluation](#-2-Generate-Queries-for-Evaluation)\n",
    "6. [3. Generate Relevance Judgments](#-3-Generate-Relevance-Judgments)\n",
    "7. [4. Generate Rankings for Evaluation](#-4-Generate-Rankings-for-Evaluation)\n",
    "8. [5. Run Evaluation](#-5-Run-Evaluation)\n",
    "9. [Interpreting the Results](#Interpreting-the-Results)\n",
    "10. [Customizing the Evaluation](#Customizing-the-Evaluation)\n",
    "\n",
    "> **By the end of this notebook**, you’ll understand how to build both a **fully customized benchmark evaluation flow** using the SDK and a **scalable low-code pipeline** using native algorithms with Azure AI Search and GPT models to generate our evaluation dataset. "
   ]
  },
  {
   "cell_type": "markdown",
   "metadata": {},
   "source": [
    "## 📊 Understanding Quantitative Measures of Relevance\n",
    "\n",
    "In order to evaluate the effectiveness of our search system, we use several metrics that measure the relevance of the results it returns. These metrics help us understand how well our system is performing and guide us in tuning it for better performance.\n",
    "\n",
    "+ **NDCG@10**: Normalized Discounted Cumulative Gain at 10 (NDCG@10) is a metric that assesses the effectiveness of a retrieval system at finding and correctly ordering the top 10 documents. The score ranges from 0 to 100, with higher scores indicating that the system's ordered list of documents closely matches the ideal order. This metric is widely used because it balances the need for precision (returning relevant results) with the need for proper sequencing (ordering the results correctly).\n",
    "\n",
    "- **NDCG@3**: NDCG@3 is similar to NDCG@10, but it focuses on the top 3 documents. This metric is particularly relevant in contexts where it's crucial to have the highest accuracy in the topmost results, such as in generative AI applications. NDCG@3 measures the system's ability to identify and correctly rank the three most relevant documents.\n",
    "\n",
    "+ **Recall@50**: Recall@50 measures the proportion of high-quality documents identified within the top 50 results. It's calculated by counting the number of documents rated as high quality by a scoring prompt and dividing this by the total number of known good documents for a given query. This metric is useful for assessing the system's ability to retrieve a broad set of relevant documents from a large pool.\n",
    "\n",
    "To automate the evaluation process, we use supervised tuning techniques. These techniques involve training a model on a labeled dataset, where the labels indicate the relevance of the documents to the queries. The model learns to predict the relevance of a document to a query, and we can then use these predictions to calculate the metrics above. This allows us to measure the relevance of our queries in an automated and scalable way."
   ]
  },
  {
   "metadata": {},
   "cell_type": "markdown",
   "source": [
    "## 🗃️ Dataset Creation\n",
    "\n",
    "To assess the qualitative performance of our search store in alignment with the BEIR framework, we follow a three-step process to generate our evaluation dataset:\n",
    "\n",
    "1. **Corpus Creation:**\n",
    "   We begin by extracting document chunks from our Azure Search index. These chunks are consolidated into a corpus file (`corpus.jsonl`), ensuring that the foundational set of documents is standardized and comprehensive for subsequent evaluation.\n",
    "\n",
    "2. **Query Generation:**\n",
    "   Next, we utilize GPT-4o to generate a diverse set of queries based on five carefully selected diagnosis and medication scenarios from our medical index. This targeted approach ensures that the queries are medically relevant and reflective of real-world clinical information needs. The generated queries are stored in `queries.jsonl`.\n",
    "\n",
    "3. **Relevance Judgments:**\n",
    "   Finally, we employ an LLM-as-a-judge to evaluate the relevance of the documents with respect to each query. This evaluation produces relevance judgments that are saved in `qrel.jsonl`. These qrels form the basis for computing our performance metrics, including NDCG@10, NDCG@3, and Recall@50.\n",
    "   3. \n",
    "4. **Ranking Generation:**\n",
    "    We generate rankings for each query using the following retrieval algorithms:\n",
    "    - **Keyword Search**: Basic keyword (lexical) search.\n",
    "    - **Vector Search**: Search using a vector query.\n",
    "    - **Hybrid Search**: Hybrid search using both keyword and vector queries.\n",
    "    - **Hybrid + Semantic Search**: Hybrid search using both keyword and vector queries with semantic reranking.\n",
    "\n",
    "You can use the below cells to generate your own dataset, please uncomment the code and run it. The dataset will be saved in the `evals/benchmark/medindexer` directory, where our existing datasets have been curated.\n"
   ]
  },
  {
   "metadata": {},
   "cell_type": "markdown",
   "source": [
    "## ⚙️ 0. Benchmark Setup\n",
    "\n",
    "First we run all the imports and setup of our benchmark evaluator class, this will take care of the methods we created later to help with the generation of our dataset."
   ]
  },
  {
   "cell_type": "code",
   "metadata": {
    "ExecuteTime": {
     "end_time": "2025-04-02T19:43:36.605616Z",
     "start_time": "2025-04-02T19:43:34.919856Z"
    }
   },
   "source": [
    "from dotenv import load_dotenv\n",
    "import os\n",
    "from azure.search.documents import SearchClient\n",
    "from azure.core.credentials import AzureKeyCredential\n",
    "import json\n",
    "from src.evals.benchmark import BenchmarkOrchestrator\n",
    "\n",
    "load_dotenv()\n",
    "\n",
    "# Setup configuration variables for Azure and MedImageInsight\n",
    "search_endpoint = os.getenv(\"AZURE_AI_SEARCH_SERVICE_ENDPOINT\")\n",
    "search_admin_key = os.getenv(\"AZURE_AI_SEARCH_ADMIN_KEY\")\n",
    "search_index_name = os.getenv(\"AZURE_IMAGES_SEARCH_INDEX_NAME\", \"ai-policies-index\")\n",
    "root = os.path.dirname(os.getcwd())\n",
    "search_client = SearchClient(\n",
    "    endpoint=search_endpoint,\n",
    "    index_name=search_index_name,\n",
    "    credential=AzureKeyCredential(search_admin_key)\n",
    ")\n",
    "\n",
    "dataset_dir = \"evals/benchmark/medindexer\"\n",
    "benchmark_orchestrator = BenchmarkOrchestrator(search_client, dataset_dir)"
   ],
   "outputs": [
    {
     "name": "stdout",
     "output_type": "stream",
     "text": [
      "Templates found: ['evaluator_system_prompt.jinja', 'evaluator_user_prompt.jinja', 'formulator_system_prompt.jinja', 'formulator_user_prompt.jinja', 'ner_clinician_system.jinja', 'ner_clinician_user.jinja', 'ner_patient_system.jinja', 'ner_patient_user.jinja', 'ner_physician_system.jinja', 'ner_physician_user.jinja', 'ner_system_prompt.jinja', 'ner_user_prompt.jinja', 'prior_auth_o1_user_prompt.jinja', 'prior_auth_o1_user_prompt_b.jinja', 'prior_auth_system_prompt.jinja', 'prior_auth_user_prompt.jinja', 'query_classificator_system_prompt.jinja', 'query_classificator_user_prompt.jinja', 'query_expansion_system_prompt.jinja', 'query_expansion_user_prompt.jinja', 'query_generation_eval_system_prompt.jinja', 'query_generation_eval_user_prompt.jinja', 'query_relevance_eval_system_prompt.jinja', 'query_relevance_eval_user_prompt.jinja', 'summarize_policy_system.jinja', 'summarize_policy_user.jinja']\n"
     ]
    }
   ],
   "execution_count": 1
  },
  {
   "metadata": {},
   "cell_type": "markdown",
   "source": [
    "## 📚 1. Generate Corpus of Documents\n",
    "\n",
    "We want to use the documents we created as a result of medIndexer workload, and our benchmark evaluation class is pointed to the `clinical-policies-index` index, these documents are subject to change based on how you choose to index, extract, and split your documents.\n",
    "\n",
    "If you wish to run this on your infrastructure, be sure to set `run_corpus=True` in the method below."
   ]
  },
  {
   "metadata": {
    "ExecuteTime": {
     "end_time": "2025-04-02T19:35:21.134285Z",
     "start_time": "2025-04-02T19:35:19.617760Z"
    }
   },
   "cell_type": "code",
   "source": "benchmark_orchestrator.generate_corpus(run_corpus=False)",
   "outputs": [
    {
     "name": "stdout",
     "output_type": "stream",
     "text": [
      "Corpus saved to /Users/marcjimz/Documents/Development/aihlsignited-medindexer/evals/benchmark/medindexer/corpus.jsonl\n"
     ]
    }
   ],
   "execution_count": 3
  },
  {
   "metadata": {},
   "cell_type": "markdown",
   "source": [
    "## ❓ 2. Generate Queries for Evaluation\n",
    "\n",
    "We now want to make use of GPT large language models to help us with generation of queries we can ask of our search store, with an inclination towards the use cases we benchmarked. This will help us evaluate the performance of our search store in a more targeted manner, however consider expanding the search query to a much broader set of use cases in the medical domain as you need.\n",
    "\n",
    "Refer to our prompt manager built under `src/pipeline/promptEngineering/prompt_manager.py` to see how we are able to generate these queries.\n",
    "\n",
    "\n",
    "<details>\n",
    "  <summary><code>query_generation_eval_user_prompt.jinja</code> (Click to expand!)</summary>\n",
    "\n",
    "\n",
    "```jinja\n",
    "## Role:\n",
    "You are a query generation expert for a prior authorization evaluation system, tasked with creating a list of concise search queries.\n",
    "\n",
    "## Task:\n",
    "Based on the following use case—which includes a diagnosis and a medication—generate a list of search queries that would effectively retrieve relevant documents from a corpus of medical policies.\n",
    "\n",
    "## Instructions:\n",
    "- Combine the provided \"Diagnosis\" and \"Medication\" fields into multiple search queries.\n",
    "- Use appropriate medical terminology and, if useful, include synonyms.\n",
    "- The queries should be clear, specific, and aimed at finding documents related to prior authorization decisions for the given case.\n",
    "- Return your result as a JSON object with the key \"queries\" and a list of query strings as the value.\n",
    "- Do not wrap the output in any ``` tags.\n",
    "\n",
    "Example:\n",
    "Input:\n",
    "Diagnosis: \"Severe Atopic Dermatitis\"\n",
    "Medication: \"Dupilumab\"\n",
    "Output:\n",
    "\n",
    "{\n",
    "  \"queries\": [\n",
    "    \"Severe atopic dermatitis Dupilumab prior authorization criteria\",\n",
    "    \"Dupilumab treatment guidelines for severe atopic dermatitis\",\n",
    "    \"Prior authorization requirements for Dupilumab in atopic dermatitis\"\n",
    "  ]\n",
    "}\n",
    "\n",
    "Now generate a list of queries for the following:\n",
    "Diagnosis: {{ diagnosis }}\n",
    "Medication: {{ medication }}\n",
    "```\n",
    "\n",
    "</details>\n",
    "\n",
    "If you wish to run this on your infrastructure, be sure to set `run_queries=True` in the method below.\n"
   ]
  },
  {
   "metadata": {
    "ExecuteTime": {
     "end_time": "2025-04-02T19:41:35.026731Z",
     "start_time": "2025-04-02T19:41:23.666222Z"
    }
   },
   "cell_type": "code",
   "source": "await benchmark_orchestrator.generate_queries(run_queries=False)",
   "outputs": [
    {
     "name": "stderr",
     "output_type": "stream",
     "text": [
      "2025-04-02 12:41:23,671 - micro - MainProcess - INFO     Function generate_chat_response started at 2025-04-02 12:41:23 (aoai_helper.py:generate_chat_response:534)\n",
      "2025-04-02 12:41:23,671 - micro - MainProcess - INFO     Sending request to Azure OpenAI at 2025-04-02 12:41:23 (aoai_helper.py:generate_chat_response:591)\n",
      "2025-04-02 12:41:27,140 - micro - MainProcess - INFO     Function generate_chat_response finished at 2025-04-02 12:41:27 (Duration: 3.47 seconds) (aoai_helper.py:generate_chat_response:645)\n",
      "2025-04-02 12:41:27,142 - micro - MainProcess - INFO     Function generate_chat_response started at 2025-04-02 12:41:27 (aoai_helper.py:generate_chat_response:534)\n",
      "2025-04-02 12:41:27,142 - micro - MainProcess - INFO     Sending request to Azure OpenAI at 2025-04-02 12:41:27 (aoai_helper.py:generate_chat_response:591)\n",
      "2025-04-02 12:41:28,891 - micro - MainProcess - INFO     Function generate_chat_response finished at 2025-04-02 12:41:28 (Duration: 1.75 seconds) (aoai_helper.py:generate_chat_response:645)\n",
      "2025-04-02 12:41:28,893 - micro - MainProcess - INFO     Function generate_chat_response started at 2025-04-02 12:41:28 (aoai_helper.py:generate_chat_response:534)\n",
      "2025-04-02 12:41:28,894 - micro - MainProcess - INFO     Sending request to Azure OpenAI at 2025-04-02 12:41:28 (aoai_helper.py:generate_chat_response:591)\n",
      "2025-04-02 12:41:31,167 - micro - MainProcess - INFO     Function generate_chat_response finished at 2025-04-02 12:41:31 (Duration: 2.27 seconds) (aoai_helper.py:generate_chat_response:645)\n",
      "2025-04-02 12:41:31,169 - micro - MainProcess - INFO     Function generate_chat_response started at 2025-04-02 12:41:31 (aoai_helper.py:generate_chat_response:534)\n",
      "2025-04-02 12:41:31,170 - micro - MainProcess - INFO     Sending request to Azure OpenAI at 2025-04-02 12:41:31 (aoai_helper.py:generate_chat_response:591)\n",
      "2025-04-02 12:41:32,745 - micro - MainProcess - INFO     Function generate_chat_response finished at 2025-04-02 12:41:32 (Duration: 1.58 seconds) (aoai_helper.py:generate_chat_response:645)\n",
      "2025-04-02 12:41:32,747 - micro - MainProcess - INFO     Function generate_chat_response started at 2025-04-02 12:41:32 (aoai_helper.py:generate_chat_response:534)\n",
      "2025-04-02 12:41:32,748 - micro - MainProcess - INFO     Sending request to Azure OpenAI at 2025-04-02 12:41:32 (aoai_helper.py:generate_chat_response:591)\n",
      "2025-04-02 12:41:35,019 - micro - MainProcess - INFO     Function generate_chat_response finished at 2025-04-02 12:41:35 (Duration: 2.27 seconds) (aoai_helper.py:generate_chat_response:645)\n"
     ]
    },
    {
     "name": "stdout",
     "output_type": "stream",
     "text": [
      "Queries saved to /Users/marcjimz/Documents/Development/aihlsignited-medindexer/evals/benchmark/medindexer/queries.jsonl\n"
     ]
    }
   ],
   "execution_count": 2
  },
  {
   "metadata": {},
   "cell_type": "markdown",
   "source": [
    "## 3. ⚖️ Generate Relevance Judgments\n",
    "\n",
    "We now want to use both our corpus of documents and our queries to execute exactly which documents are relevant to which queries, this will help us evaluate the performance of our search store in a more targeted manner. We create a prompt inspired by our own published `RelevanceEvaluator` which is available today in AI Foundry, and we framed it for our use case.\n",
    "\n",
    "<details>\n",
    "  <summary><code>relevance_judgment_eval_user_prompt.jinja</code> (Click to expand!)</summary>\n",
    "\n",
    "  \n",
    "```jinja\n",
    "# Definition\n",
    "**Relevance** refers to how effectively a response addresses a question. It assesses the accuracy, completeness, and direct relevance of the response based solely on the given information.\n",
    "\n",
    "# Ratings\n",
    "## [Relevance: 1] (Irrelevant Response)\n",
    "**Definition:** The response is unrelated to the question. It provides information that is off-topic and does not attempt to address the question posed.\n",
    "\n",
    "**Examples:**\n",
    "  **Query:** What is the team preparing for?\n",
    "  **Response:** I went grocery shopping yesterday evening.\n",
    "\n",
    "  **Query:** When will the company's new product line launch?\n",
    "  **Response:** International travel can be very rewarding and educational.\n",
    "\n",
    "## [Relevance: 2] (Incorrect Response)\n",
    "**Definition:** The response attempts to address the question but includes incorrect information. It provides a response that is factually wrong based on the provided information.\n",
    "\n",
    "**Examples:**\n",
    "  **Query:** When was the merger between the two firms finalized?\n",
    "  **Response:** The merger was finalized on April 10th.\n",
    "\n",
    "  **Query:** Where and when will the solar eclipse be visible?\n",
    "  **Response:** The solar eclipse will be visible in Asia on December 14th.\n",
    "\n",
    "## [Relevance: 3] (Incomplete Response)\n",
    "**Definition:** The response addresses the question but omits key details necessary for a full understanding. It provides a partial response that lacks essential information.\n",
    "\n",
    "**Examples:**\n",
    "  **Query:** What type of food does the new restaurant offer?\n",
    "  **Response:** The restaurant offers Italian food like pasta.\n",
    "\n",
    "  **Query:** What topics will the conference cover?\n",
    "  **Response:** The conference will cover renewable energy and climate change.\n",
    "\n",
    "## [Relevance: 4] (Complete Response)\n",
    "**Definition:** The response fully addresses the question with accurate and complete information. It includes all essential details required for a comprehensive understanding, without adding any extraneous information.\n",
    "\n",
    "**Examples:**\n",
    "  **Query:** What type of food does the new restaurant offer?\n",
    "  **Response:** The new restaurant offers Italian cuisine, featuring dishes like pasta, pizza, and risotto.\n",
    "\n",
    "  **Query:** What topics will the conference cover?\n",
    "  **Response:** The conference will cover renewable energy, climate change, and sustainability practices.\n",
    "\n",
    "## [Relevance: 5] (Comprehensive Response with Insights)\n",
    "**Definition:** The response not only fully and accurately addresses the question but also includes additional relevant insights or elaboration. It may explain the significance, implications, or provide minor inferences that enhance understanding.\n",
    "\n",
    "**Examples:**\n",
    "  **Query:** What type of food does the new restaurant offer?\n",
    "  **Response:** The new restaurant offers Italian cuisine, featuring dishes like pasta, pizza, and risotto, aiming to provide customers with an authentic Italian dining experience.\n",
    "\n",
    "  **Query:** What topics will the conference cover?\n",
    "  **Response:** The conference will cover renewable energy, climate change, and sustainability practices, bringing together global experts to discuss these critical issues.\n",
    "\n",
    "# Data\n",
    "\n",
    "## Please assess the relevance of the given **CORPUS** entries to the **QUERY** based on the definitions provided above. You will evaluate each entry in the **CORPUS** based on how well it addresses the **QUERY**. Your evaluation should be guided by the definitions and examples provided.\n",
    "\n",
    "#### CORPUS:\n",
    "\n",
    "{{ corpus }}\n",
    "\n",
    "#### QUERY:\n",
    "\n",
    "{{ query }}\n",
    "\n",
    "#### QUERY ID:\n",
    "\n",
    "{{ query_id }}\n",
    "\n",
    "# Tasks\n",
    "## Please provide your assessment Score for the CORPUS entries in relation to the QUERY based on the Definitions above. Your output should include the following information:\n",
    "- **thought_chain**: To improve the reasoning process, think step by step and include a step-by-step explanation of your thought process as you analyze the data based on the definitions. Keep it brief and start your ThoughtChain with \"Let's think step by step:\" and limit your reasoning to no more than 1000 characters.\n",
    "- **explanation**: a very short explanation of why you think the input Data should get that Score.\n",
    "- **relevant_score**: based on your previous analysis, provide your Score. The Score you give MUST be a integer score (i.e., \"1\", \"2\"...) based on the levels of the definitions.\n",
    "- **document**: the ID of the document ID\n",
    "- **query**: the ID of the query ID\n",
    "- **relevant**: relevant based on the score you give, if 3 or above you can score it as relevant\n",
    "\n",
    "## Please provide your answers for each query on the JSON entity you generate per query. Refer to the example below.\n",
    "\n",
    "# Output\n",
    "\n",
    "## Example:\n",
    "\n",
    "### Input:\n",
    "\n",
    "    #### CORPUS:\n",
    "\n",
    "    [\n",
    "      {\"id\": \"d1\", \"chunk\": \"guidelines for Crohn's disease and Adalimumab are\"},\n",
    "      {\"id\": \"d2\", \"chunk\": \"noted below. In cases where the approval is authorized\"},\n",
    "      {\"id\": \"d3\", \"chunk\": \"10. Behcet's Disease. Approve for the duration noted\"}\n",
    "    ]\n",
    "\n",
    "    #### QUERY:\n",
    "\n",
    "    Crohn's disease Adalimumab prior authorization criteria\n",
    "\n",
    "    #### QUERY ID:\n",
    "\n",
    "    q1\n",
    "\n",
    "### Output (make sure the list object is completely JSON formatted and compliant with JSON loaders):\n",
    "\n",
    "    [\n",
    "      {\"query\": \"q1\", \"document\": \"d1\", \"relevant\": 1, \"relevant_score\" : 5, \"thought_chain\" : \"..\", \"explanation\" : \"..\"},\n",
    "      {\"query\": \"q1\", \"document\": \"d2\", \"relevant\": 0, \"relevant_score\" : 1, \"thought_chain\" : \"..\", \"explanation\" : \"..\"},\n",
    "      {\"query\": \"q1\", \"document\": \"d3\", \"relevant\": 0, \"relevant_score\" : 1, \"thought_chain\" : \"..\", \"explanation\" : \"..\"}\n",
    "    ]\n",
    "```\n",
    "\n",
    "</details>"
   ]
  },
  {
   "metadata": {
    "ExecuteTime": {
     "end_time": "2025-04-02T19:43:53.313845Z",
     "start_time": "2025-04-02T19:43:53.308202Z"
    }
   },
   "cell_type": "code",
   "source": [
    "with open(os.path.join(root, dataset_dir, \"corpus.jsonl\"), \"r\") as f:\n",
    "    corpus_data = [\n",
    "        {k: d[k] for k in (\"chunk\", \"id\", \"title\", \"chunk_id\") if k in d}\n",
    "        for d in (json.loads(line) for line in f if line.strip())\n",
    "    ]\n",
    "\n",
    "with open(os.path.join(root, dataset_dir, \"queries.jsonl\"), \"r\") as f:\n",
    "    queries_data = [json.loads(line) for line in f if line.strip()]"
   ],
   "outputs": [],
   "execution_count": 2
  },
  {
   "metadata": {
    "ExecuteTime": {
     "end_time": "2025-04-02T19:43:59.463469Z",
     "start_time": "2025-04-02T19:43:54.054784Z"
    }
   },
   "cell_type": "code",
   "source": "await benchmark_orchestrator.generate_qrels(corpus_data, queries_data, run_relevance=True)",
   "outputs": [
    {
     "name": "stderr",
     "output_type": "stream",
     "text": [
      "Processing Queries:   0%|          | 0/1 [00:00<?, ?it/s]\n",
      "Query q1 Blocks:   0%|          | 0/1 [00:00<?, ?it/s]\u001B[A2025-04-02 12:43:54,080 - micro - MainProcess - INFO     Sending request to Azure OpenAI at 2025-04-02 12:43:54 (aoai_helper.py:generate_chat_response_no_history:422)\n",
      "\n",
      "Query q1 Blocks: 100%|██████████| 1/1 [00:05<00:00,  5.37s/it]\u001B[A\n",
      "Processing Queries: 100%|██████████| 1/1 [00:05<00:00,  5.38s/it]"
     ]
    },
    {
     "name": "stdout",
     "output_type": "stream",
     "text": [
      "Qrels saved to /Users/marcjimz/Documents/Development/aihlsignited-medindexer/evals/benchmark/medindexer/qrels.jsonl\n"
     ]
    },
    {
     "name": "stderr",
     "output_type": "stream",
     "text": [
      "\n"
     ]
    }
   ],
   "execution_count": 3
  },
  {
   "metadata": {},
   "cell_type": "markdown",
   "source": [
    "## 4. 🏆 Generate rankings for evaluation\n",
    "\n",
    "Rankings are generated using the corpus and queries we have created, this will help us evaluate the performance of our search store in a more targeted manner. We retrieve the relevant documents for each and every query we generated using the different algorithms available to us and record the rankings.\n",
    "\n",
    "- **Keyword Search**: Basic keyword (lexical) search.\n",
    "- **Vector Search**: Search using a vector query.\n",
    "- **Hybrid Search**: Hybrid search using both keyword and vector queries.\n",
    "- **Hybrid + Semantic Search**: Hybrid search using both keyword and vector queries with semantic reranking."
   ]
  },
  {
   "metadata": {
    "ExecuteTime": {
     "end_time": "2025-04-02T19:48:23.278855Z",
     "start_time": "2025-04-02T19:47:49.417627Z"
    }
   },
   "cell_type": "code",
   "source": "benchmark_orchestrator.generate_rankings(run_rankings=False)",
   "outputs": [
    {
     "name": "stdout",
     "output_type": "stream",
     "text": [
      "Processed query q1\n",
      "Processed query q2\n",
      "Processed query q3\n",
      "Processed query q4\n",
      "Processed query q5\n",
      "Processed query q6\n",
      "Processed query q7\n",
      "Processed query q8\n",
      "Processed query q9\n",
      "Processed query q10\n",
      "Processed query q11\n",
      "Processed query q12\n",
      "Processed query q13\n",
      "Processed query q14\n",
      "Processed query q15\n",
      "Processed query q16\n",
      "Processed query q17\n",
      "Processed query q18\n",
      "Processed query q19\n",
      "Processed query q20\n",
      "Processed query q21\n",
      "Processed query q22\n",
      "Processed query q23\n",
      "Processed query q24\n",
      "Processed query q25\n",
      "Processed query q26\n",
      "Processed query q27\n",
      "Processed query q28\n",
      "Processed query q29\n",
      "Processed query q30\n",
      "Processed query q31\n",
      "Processed query q32\n",
      "Processed query q33\n",
      "Processed query q34\n",
      "Processed query q35\n",
      "Rankings files have been generated.\n"
     ]
    }
   ],
   "execution_count": 4
  },
  {
   "metadata": {},
   "cell_type": "markdown",
   "source": [
    "## 5. ▶️ Run Evaluation\n",
    "\n",
    "Now with our corpus generated, relevance rankings queries, we can make use of the `BEIR` framework to evaluate the performance of our search store. We will run the evaluation for the following retrieval metrics:\n",
    "\n",
    "- **NDCG@3**: Normalized Discounted Cumulative Gain at 3.\n",
    "- **NDCG@10**: Normalized Discounted Cumulative Gain at 10.\n",
    "- **Recall@50**: Recall at 50."
   ]
  },
  {
   "metadata": {
    "ExecuteTime": {
     "end_time": "2025-04-02T18:46:00.550304Z",
     "start_time": "2025-04-02T18:46:00.464064Z"
    }
   },
   "cell_type": "code",
   "source": "benchmark_orchestrator.generate_evaluation_metrics()",
   "outputs": [
    {
     "name": "stdout",
     "output_type": "stream",
     "text": [
      "Evaluation Metrics:\n",
      "           BEIR-Keyword  BEIR-Vector  BEIR-Hybrid (Keyword + Vector)  \\\n",
      "NDCG@3          0.63841      0.76906                         0.78106   \n",
      "NDCG@10         0.69166      0.71201                         0.83195   \n",
      "Recall@10       0.76512      0.70012                         0.87894   \n",
      "\n",
      "           BEIR-Hybrid + Semantic  \n",
      "NDCG@3                    0.70674  \n",
      "NDCG@10                   0.74295  \n",
      "Recall@10                 0.81668  \n"
     ]
    },
    {
     "data": {
      "text/plain": [
       "<Figure size 800x500 with 1 Axes>"
      ],
      "image/png": "[encoded data removed]"
     },
     "metadata": {},
     "output_type": "display_data"
    }
   ],
   "execution_count": 15
  },
  {
   "metadata": {},
   "cell_type": "markdown",
   "source": [
    "# 🔍 Interpreting the Results\n",
    "\n",
    "From the chart and metrics above, we see that:\n",
    "\n",
    "- **Keyword-only (BM25) retrieval** achieves moderate performance (NDCG@3 ≈ 0.64, NDCG@10 ≈ 0.69) and relatively high Recall@10 (≈ 0.76). This suggests that strict lexical matching catches many relevant documents but may not prioritize them perfectly at the top (as reflected by somewhat lower NDCG scores).\n",
    "\n",
    "- **Vector-only retrieval** slightly improves NDCG@3 and NDCG@10 over keyword-only (NDCG@3 ≈ 0.77, NDCG@10 ≈ 0.71) but actually has a lower Recall@10 (≈ 0.70). The improved NDCG but drop in recall indicates that dense retrieval can find *some* relevant documents more effectively but may miss certain others, possibly due to insufficient domain-specific training or conceptual coverage.\n",
    "\n",
    "- **Hybrid (Keyword + Vector)** shows the best scores across the board, with the highest NDCG@3 (≈ 0.78), NDCG@10 (≈ 0.83), and Recall@10 (≈ 0.88). This confirms a recurring finding in biomedical information retrieval: combining lexical and dense retrieval balances term-precision with conceptual recall.\n",
    "\n",
    "- **Hybrid + Semantic reranking** underperforms the pure Hybrid approach on NDCG metrics (NDCG@3 drops from ≈ 0.78 to 0.71; NDCG@10 drops from ≈ 0.83 to 0.74) and also lowers Recall@10 (≈ 0.82 vs. 0.88). Despite the semantic reranker’s promise, it appears to reorder top-scoring results in ways that reduce overall precision and recall for these biomedical queries.\n",
    "\n",
    "These findings align with what the broader research has shown: without domain-specific adaptation, a generic “semantic” stage can inadvertently demote key documents, especially in specialized fields like biomedicine. The reranker may either miss subtle medical terminology (acronyms, synonyms, context) or truncate long biomedical documents (missing the truly relevant sections). As a result, the “Hybrid (Keyword + Vector)” pipeline—without the generic semantic step—achieves better ranking fidelity.\n",
    "\n",
    "## 🤔 So Why the Semantic Reranker Falls Short?\n",
    "\n",
    "The drop in performance when adding a semantic reranker can be attributed to several factors:\n",
    "\n",
    "1. **Domain mismatch**: Out-of-the-box rerankers are not tuned to specialized medical concepts, abbreviations, or precise clinical outcomes; hence, they may promote content that is *semantically* related but not *clinically* relevant.\n",
    "2. **Truncation**: Many biomedical documents are lengthy. If the reranker only sees the first 128–256 tokens, it could miss the actual passage that makes the document relevant.\n",
    "3. **Over-reliance on “general relevance”**: The reranker might weight general mentions more than exact biomedical matches. In high-precision medical queries (e.g., a specific gene mutation or narrow clinical outcome), missing an exact match can be critical.\n",
    "\n",
    "Thus, while a generic semantic reranker might help in broader or less technical domains, in biomedical search it can “confuse” the ranking unless it is properly tuned to the medical domain.\n",
    "\n",
    "> Stay tuned for a future iteration on how we further customize AI Search to better serve the medical domain, including a more nuanced semantic reranker and specialized biomedical embeddings.\n"
   ]
  },
  {
   "metadata": {},
   "cell_type": "markdown",
   "source": [
    "# 🛠️ Customizing the Evaluation\n",
    "\n",
    "Now you too can customize this evaluation with your data. Improvements and further customization can be made by adjusting the following:\n",
    "\n",
    "Below are a few ways you might adapt or extend this evaluation for your own biomedical (or similarly specialized) search use cases:\n",
    "\n",
    "1. **Alternative Chunking Strategies**\n",
    "   - Long documents often hide relevant snippets deep inside. Try splitting them into smaller passages and retrieving at the passage level. This can give your reranker more precise “chunks” to compare to the query, improving both precision and recall.\n",
    "\n",
    "2. **Domain-Specific Query Generation**\n",
    "   - If you create synthetic or test queries, include medical synonyms, acronyms, or variations you see in real practice. For example, if “CT” can mean “chemotherapy,” “computed tomography,” or “copper toxicosis,” ensure your test queries reflect those nuances.\n",
    "\n",
    "3. **Enhanced Relevance Judgment**\n",
    "   - If you use human-labeled judgments, consider adding extra relevance categories—e.g. “highly relevant” for articles that exactly answer a clinical question versus “somewhat relevant” for those that merely mention the topic. Consulting a medical professional or domain expert to refine these labels can help ensure the model learns the correct precision signals.\n",
    "\n",
    "4. **Domain-Aware Rerankers**\n",
    "   - If platform constraints allow, swap in a biomedical-tuned model (e.g. BioBERT, ClinicalBERT) or an LLM prompt engineered with medical knowledge. Fine-tuning on a set of labeled biomedical queries or using a specialized biomedical vocabulary/ontology (like UMLS) can greatly reduce semantic mismatches.\n",
    "\n",
    "5. **Weighted Ensemble**\n",
    "   - Instead of allowing the semantic ranker to fully reorder results, consider combining its score with keyword or vector scores in a weighted blend or reciprocal rank fusion. This safeguards against the reranker “ruining” a good baseline when it is uncertain about certain medical terms.\n",
    "\n",
    "By incorporating these domain-specific techniques and thoroughly testing them with targeted evaluation metrics (like NDCG at various cutoff levels, recall, or precision at k), you can more reliably boost performance for biomedical queries. The insights gleaned from the chart—particularly the strong performance of the hybrid approach versus the current semantic reranker—underscore the importance of domain adaptation. With the right strategies, a semantic reranker can become an asset rather than a liability, complementing lexical and dense retrieval methods to deliver the most clinically accurate documents at the top of the results list.\n"
   ]
  }
 ],
 "metadata": {
  "kernelspec": {
   "display_name": "vector-indexing-azureaisearch",
   "language": "python",
   "name": "python3"
  },
  "language_info": {
   "name": "python",
   "version": "3.9.18"
  }
 },
 "nbformat": 4,
 "nbformat_minor": 2
}
