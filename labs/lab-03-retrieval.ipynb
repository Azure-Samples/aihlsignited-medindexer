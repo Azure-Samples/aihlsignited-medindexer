{
 "cells": [
  {
   "cell_type": "markdown",
   "metadata": {},
   "source": [
    "## 📚 Prerequisites\n",
    "\n",
    "Before executing this notebook, make sure you have properly set up your Azure Services, created your Conda environment, and configured your environment variables as per the instructions provided in the [README.md](README.md) file.\n",
    "\n",
    "## 📋 Table of Contents\n",
    "\n",
    "Explore different retrieval methods in Azure AI Search:\n",
    "\n",
    "1. [**Understanding Types of Search**](#define-field-types): This section provides a comprehensive overview of the different types of search methods available in Azure AI Search.\n",
    "2. [**Keyword Search**](#keyword-search): Use direct query term matching with document content.\n",
    "3. [**Vector Search**](#vector-search): Employ embeddings for semantic content understanding and relevance ranking.\n",
    "4. [**Hybrid Search**](#hybrid-search): Combine keyword and vector search for comprehensive results.\n",
    "5. [**Reranking Search**](#reranking-search): Reorder initial search results for improved top result relevance.\n",
    "\n",
    "Additional resources:\n",
    "- [Azure AI Search Documentation](https://learn.microsoft.com/en-us/azure/search/)"
   ]
  },
  {
   "cell_type": "markdown",
   "metadata": {},
   "source": [
    "### 🧭 Understanding Types of Search  \n",
    "\n",
    "+ **Keyword Search**: Traditional search method relying on direct term matching. Efficient for exact matches but struggles with synonyms and context. [Learn More](https://learn.microsoft.com/en-us/azure/search/search-lucene-query-architecture)\n",
    "\n",
    "- **Vector Search**: Converts text into high-dimensional vectors to understand semantic meaning. Finds relevant documents even without exact keyword matches. Effectiveness depends on quality of training data. [Learn More](https://learn.microsoft.com/en-us/azure/search/vector-search-overview)\n",
    "\n",
    "+ **Hybrid Search**: Combines Keyword and Vector Search for comprehensive, contextually relevant results. Effective for complex queries requiring nuanced understanding. [Learn More](https://learn.microsoft.com/en-us/azure/search/vector-search-ranking#hybrid-search)\n",
    "\n",
    "- **Reranking Search**: Fine-tunes initial search results using advanced algorithms for relevance. Useful when initial retrieval returns relevant but not optimally ordered results. [Learn More](https://learn.microsoft.com/en-us/azure/search/semantic-search-overview)\n",
    "\n",
    "### 🚧 Limitations\n",
    "\n",
    "##### Keyword Search\n",
    "- **Synonym Challenges**: Struggles with recognizing synonyms or different expressions of the same concept.\n",
    "- **Context Understanding**: May not fully capture the broader context or the query's intent, especially in complex queries.\n",
    "##### Embedding-Based Search\n",
    "- **Keyword Precision**: May miss documents that contain exact terms if those terms don't semantically align with the query or document's overall content.\n",
    "- **Contextual Misinterpretations**: May overgeneralize or incorrectly interpret context, missing specific nuances.\n",
    "- **Training Data Dependency**: Performance heavily relies on the diversity and depth of the training data.\n",
    "### 💡 Recommendations\n",
    "\n",
    "To achieve higher relevance out of the box: \n",
    "\n",
    "1. **Hybrid Search**: Combines keyword and vector search methods to ensure comprehensive document retrieval across a range of queries, from highly specific to semantically complex.\n",
    "\n",
    "2. **Re-Ranking and L2 in AI Search**: Enhances initial search results by applying sophisticated ranking algorithms, improving relevance and accuracy, especially for nuanced queries."
   ]
  },
  {
   "cell_type": "code",
   "execution_count": 1,
   "metadata": {},
   "outputs": [
    {
     "name": "stdout",
     "output_type": "stream",
     "text": [
      "Directory changed to c:\\Users\\pablosal\\Desktop\\aihlsignited-medindexer\n"
     ]
    }
   ],
   "source": [
    "import os\n",
    "from dotenv import load_dotenv\n",
    "import os\n",
    "from dotenv import load_dotenv\n",
    "from azure.core.credentials import AzureKeyCredential\n",
    "from azure.search.documents import SearchClient\n",
    "from azure.search.documents.models import (\n",
    "    VectorQuery,\n",
    "    VectorizedQuery,\n",
    "    VectorizableTextQuery,\n",
    "    QueryType,\n",
    "    QueryCaptionType,\n",
    "    QueryAnswerType,\n",
    ")\n",
    "\n",
    "# Load environment variables from .env file\n",
    "load_dotenv()\n",
    "\n",
    "# Define the target directory\n",
    "target_directory = os.getcwd()  # Get the current working directory\n",
    "\n",
    "# Move one directory back\n",
    "parent_directory = os.path.dirname(target_directory)\n",
    "\n",
    "# Check if the parent directory exists\n",
    "if os.path.exists(parent_directory):\n",
    "    # Change the current working directory to the parent directory\n",
    "    os.chdir(parent_directory)\n",
    "    print(f\"Directory changed to {os.getcwd()}\")\n",
    "else:\n",
    "    print(f\"Parent directory {parent_directory} does not exist.\")"
   ]
  },
  {
   "cell_type": "code",
   "execution_count": 2,
   "metadata": {},
   "outputs": [
    {
     "name": "stderr",
     "output_type": "stream",
     "text": [
      "2025-04-02 22:14:50,681 - micro - MainProcess - ERROR    API Connection Error: The server could not be reached. (aoai_helper.py:generate_embedding:793)\n",
      "2025-04-02 22:14:50,683 - micro - MainProcess - ERROR    Error details: Connection error. (aoai_helper.py:generate_embedding:794)\n",
      "2025-04-02 22:14:50,974 - micro - MainProcess - ERROR    Traceback: Traceback (most recent call last):\n",
      "  File \"c:\\Users\\pablosal\\AppData\\Local\\anaconda3\\envs\\mediindexer\\lib\\site-packages\\httpx\\_transports\\default.py\", line 72, in map_httpcore_exceptions\n",
      "    yield\n",
      "  File \"c:\\Users\\pablosal\\AppData\\Local\\anaconda3\\envs\\mediindexer\\lib\\site-packages\\httpx\\_transports\\default.py\", line 236, in handle_request\n",
      "    resp = self._pool.handle_request(req)\n",
      "  File \"c:\\Users\\pablosal\\AppData\\Local\\anaconda3\\envs\\mediindexer\\lib\\site-packages\\httpcore\\_sync\\connection_pool.py\", line 256, in handle_request\n",
      "    raise exc from None\n",
      "  File \"c:\\Users\\pablosal\\AppData\\Local\\anaconda3\\envs\\mediindexer\\lib\\site-packages\\httpcore\\_sync\\connection_pool.py\", line 236, in handle_request\n",
      "    response = connection.handle_request(\n",
      "  File \"c:\\Users\\pablosal\\AppData\\Local\\anaconda3\\envs\\mediindexer\\lib\\site-packages\\httpcore\\_sync\\connection.py\", line 101, in handle_request\n",
      "    raise exc\n",
      "  File \"c:\\Users\\pablosal\\AppData\\Local\\anaconda3\\envs\\mediindexer\\lib\\site-packages\\httpcore\\_sync\\connection.py\", line 78, in handle_request\n",
      "    stream = self._connect(request)\n",
      "  File \"c:\\Users\\pablosal\\AppData\\Local\\anaconda3\\envs\\mediindexer\\lib\\site-packages\\httpcore\\_sync\\connection.py\", line 124, in _connect\n",
      "    stream = self._network_backend.connect_tcp(**kwargs)\n",
      "  File \"c:\\Users\\pablosal\\AppData\\Local\\anaconda3\\envs\\mediindexer\\lib\\site-packages\\httpcore\\_backends\\sync.py\", line 207, in connect_tcp\n",
      "    with map_exceptions(exc_map):\n",
      "  File \"c:\\Users\\pablosal\\AppData\\Local\\anaconda3\\envs\\mediindexer\\lib\\contextlib.py\", line 153, in __exit__\n",
      "    self.gen.throw(typ, value, traceback)\n",
      "  File \"c:\\Users\\pablosal\\AppData\\Local\\anaconda3\\envs\\mediindexer\\lib\\site-packages\\httpcore\\_exceptions.py\", line 14, in map_exceptions\n",
      "    raise to_exc(exc) from exc\n",
      "httpcore.ConnectError: [Errno 11002] getaddrinfo failed\n",
      "\n",
      "The above exception was the direct cause of the following exception:\n",
      "\n",
      "Traceback (most recent call last):\n",
      "  File \"c:\\Users\\pablosal\\AppData\\Local\\anaconda3\\envs\\mediindexer\\lib\\site-packages\\openai\\_base_client.py\", line 990, in _request\n",
      "    response = self._client.send(\n",
      "  File \"c:\\Users\\pablosal\\AppData\\Local\\anaconda3\\envs\\mediindexer\\lib\\site-packages\\httpx\\_client.py\", line 926, in send\n",
      "    response = self._send_handling_auth(\n",
      "  File \"c:\\Users\\pablosal\\AppData\\Local\\anaconda3\\envs\\mediindexer\\lib\\site-packages\\httpx\\_client.py\", line 954, in _send_handling_auth\n",
      "    response = self._send_handling_redirects(\n",
      "  File \"c:\\Users\\pablosal\\AppData\\Local\\anaconda3\\envs\\mediindexer\\lib\\site-packages\\httpx\\_client.py\", line 991, in _send_handling_redirects\n",
      "    response = self._send_single_request(request)\n",
      "  File \"c:\\Users\\pablosal\\AppData\\Local\\anaconda3\\envs\\mediindexer\\lib\\site-packages\\httpx\\_client.py\", line 1027, in _send_single_request\n",
      "    response = transport.handle_request(request)\n",
      "  File \"c:\\Users\\pablosal\\AppData\\Local\\anaconda3\\envs\\mediindexer\\lib\\site-packages\\httpx\\_transports\\default.py\", line 235, in handle_request\n",
      "    with map_httpcore_exceptions():\n",
      "  File \"c:\\Users\\pablosal\\AppData\\Local\\anaconda3\\envs\\mediindexer\\lib\\contextlib.py\", line 153, in __exit__\n",
      "    self.gen.throw(typ, value, traceback)\n",
      "  File \"c:\\Users\\pablosal\\AppData\\Local\\anaconda3\\envs\\mediindexer\\lib\\site-packages\\httpx\\_transports\\default.py\", line 89, in map_httpcore_exceptions\n",
      "    raise mapped_exc(message) from exc\n",
      "httpx.ConnectError: [Errno 11002] getaddrinfo failed\n",
      "\n",
      "The above exception was the direct cause of the following exception:\n",
      "\n",
      "Traceback (most recent call last):\n",
      "  File \"c:\\Users\\pablosal\\Desktop\\aihlsignited-medindexer\\src\\aoai\\aoai_helper.py\", line 786, in generate_embedding\n",
      "    response = self.openai_client.embeddings.create(\n",
      "  File \"c:\\Users\\pablosal\\AppData\\Local\\anaconda3\\envs\\mediindexer\\lib\\site-packages\\openai\\resources\\embeddings.py\", line 124, in create\n",
      "    return self._post(\n",
      "  File \"c:\\Users\\pablosal\\AppData\\Local\\anaconda3\\envs\\mediindexer\\lib\\site-packages\\openai\\_base_client.py\", line 1277, in post\n",
      "    return cast(ResponseT, self.request(cast_to, opts, stream=stream, stream_cls=stream_cls))\n",
      "  File \"c:\\Users\\pablosal\\AppData\\Local\\anaconda3\\envs\\mediindexer\\lib\\site-packages\\openai\\_base_client.py\", line 954, in request\n",
      "    return self._request(\n",
      "  File \"c:\\Users\\pablosal\\AppData\\Local\\anaconda3\\envs\\mediindexer\\lib\\site-packages\\openai\\_base_client.py\", line 1014, in _request\n",
      "    return self._retry_request(\n",
      "  File \"c:\\Users\\pablosal\\AppData\\Local\\anaconda3\\envs\\mediindexer\\lib\\site-packages\\openai\\_base_client.py\", line 1092, in _retry_request\n",
      "    return self._request(\n",
      "  File \"c:\\Users\\pablosal\\AppData\\Local\\anaconda3\\envs\\mediindexer\\lib\\site-packages\\openai\\_base_client.py\", line 1014, in _request\n",
      "    return self._retry_request(\n",
      "  File \"c:\\Users\\pablosal\\AppData\\Local\\anaconda3\\envs\\mediindexer\\lib\\site-packages\\openai\\_base_client.py\", line 1092, in _retry_request\n",
      "    return self._request(\n",
      "  File \"c:\\Users\\pablosal\\AppData\\Local\\anaconda3\\envs\\mediindexer\\lib\\site-packages\\openai\\_base_client.py\", line 1024, in _request\n",
      "    raise APIConnectionError(request=request) from err\n",
      "openai.APIConnectionError: Connection error.\n",
      " (aoai_helper.py:generate_embedding:795)\n"
     ]
    }
   ],
   "source": [
    "# Set up Azure Cognitive Search credentials\n",
    "service_endpoint = os.getenv(\"AZURE_AI_SEARCH_SERVICE_ENDPOINT\")\n",
    "key = os.getenv(\"AZURE_SEARCH_ADMIN_KEY\")\n",
    "credential = AzureKeyCredential(key)\n",
    "\n",
    "# Define the name of the Azure Search index\n",
    "# This is the index where your data is stored in Azure Search\n",
    "index_name = os.getenv(\"AZURE_SEARCH_INDEX_NAME\")\n",
    "\n",
    "# Set up the Azure Search client with the specified index\n",
    "# This prepares the client to interact with the Azure Search service\n",
    "search_client = SearchClient(service_endpoint, index_name, credential=credential)\n",
    "\n",
    "# Set the service endpoint and API key from the environment\n",
    "# Create an SDK client\n",
    "from src.aoai.aoai_helper import AzureOpenAIManager\n",
    "aoai_client = AzureOpenAIManager()\n",
    "\n",
    "search_query = \"What is the prior authorization policy for Inflammatory Conditions?\"\n",
    "search_vector = aoai_client.generate_embedding(search_query)"
   ]
  },
  {
   "cell_type": "markdown",
   "metadata": {},
   "source": [
    "## Keyword Search \n",
    "\n",
    "**Full-text search**: This method uses the `@search.score` parameter and the BM25 algorithm for scoring. The BM25 algorithm is a bag-of-words retrieval function that ranks a set of documents based on the query terms appearing in each document, regardless of their proximity within the document. There is no upper limit for the score in this method.\n",
    "\n",
    "```json\n",
    "\"value\": [\n",
    " {\n",
    "    \"@search.score\": 5.1958685,\n",
    "    \"@search.features\": {\n",
    "        \"description\": {\n",
    "            \"uniqueTokenMatches\": 1.0,\n",
    "            \"similarityScore\": 0.29541412,\n",
    "            \"termFrequency\" : 2\n",
    "        },\n",
    "        \"title\": {\n",
    "            \"uniqueTokenMatches\": 3.0,\n",
    "            \"similarityScore\": 1.75451557,\n",
    "            \"termFrequency\" : 6\n",
    "        }\n",
    "    }\n",
    " }\n",
    "]\n",
    " ```\n",
    "\n",
    "- `uniqueTokenMatches`: This parameter indicates the number of unique query terms found in the document field. A higher value means more unique query terms were found, suggesting a stronger match.\n",
    "\n",
    "- `similarityScore`: This parameter represents the semantic similarity between the content of the document field and the query terms. A higher `similarityScore` means the document content is more semantically similar to the query, indicating a more relevant match.\n",
    "\n",
    "- `termFrequency`: This parameter shows how often the query terms appear within the document field. A higher `termFrequency` means the query terms appear more often, suggesting a stronger match.\n",
    "\n",
    "These parameters contribute to the overall `@search.score`. The `@search.score` is a cumulative measure of a document's relevance to the search query. A higher `@search.score` indicates a stronger match between the document and the search query.\n",
    "\n",
    "When interpreting search results, documents with higher scores are generally considered more relevant to the query than those with lower scores."
   ]
  },
  {
   "cell_type": "code",
   "execution_count": 10,
   "metadata": {},
   "outputs": [
    {
     "name": "stdout",
     "output_type": "stream",
     "text": [
      "score: 5.676634. 1\\. Ankylosing Spondylitis. Approve for the duration noted if the patient meets ONE of the following (A or B):   A) Initial Therapy. Approve for 6 months if the patient meets BOTH of the following (i and ii):   i. Patient is ≥ 18 years of age; AND   ii. The medication is prescribed by or in consultation with a rheumatologist.   B) Patient is Currently Receiving an Adalimumab Product. Approve for 1 year if the patient meets BOTH of the following (i and ii):   i. Patient has been established on therapy for at least 6 months; AND Note: A patient who has received < 6 months of therapy or who is restarting therapy with an adalimumab product is reviewed under criterion A (Initial Therapy).   ii. Patient meets at least ONE of the following (a or b):   a) When assessed by at least one objective measure, patient experienced a beneficial clinical response from baseline (prior to initiating an adalimumab product); OR Note: Examples of objective measures include Ankylosing Spondylitis Disease Acti\n",
      "score: 5.2274876. TNFis are featured prominently in guidelines for treatment of inflammatory conditions.   · Ankylosing Spondylitis and Spondyloarthritis: Guidelines for ankylosing spondylitis and non-radiographic axial spondylitis are published by the American College of Rheumatology (ACR)/Spondylitis Association of America/Spondyloarthritis Research and Treatment Network (2019).3 TNFis are recommended as the initial biologic. In those who are secondary non-responders to a TNFi, a second TNFi is recommended over switching out of the class.   · Crohn's Disease: The American College of Gastroenterology (ACG) has guidelines for Crohn's disease (2018).4 TNFis are listed as an option for disease that is resistant to corticosteroids, severely active disease, perianal fistulizing disease, and maintenance of remission. In post-operative Crohn's disease, a TNFi should be started within 4 weeks of surgery to prevent recurrence. Guidelines from the American Gastroenterological Association (AGA) [2021] include TNF\n",
      "score: 4.277027. 1\\. Concurrent Use with a Biologic or with a Targeted Synthetic Oral Small Molecule Drug. This medication should not be administered in combination with another biologic or with a targeted synthetic oral small molecule drug used for an inflammatory condition (see Appendix for examples). Combination therapy is generally not recommended due to a potentially higher rate of adverse events and lack of controlled clinical data supporting additive efficacy.   Note: This does NOT exclude the use of conventional synthetic DMARDs (e.g., methotrexate, leflunomide, hydroxychloroquine, or sulfasalazine) in combination with this medication.   2\\. Polymyalgia Rheumatica (PMR). EULAR/ACR guidelines for the management of PMR (2015) strongly recommend against the use of TNFis for treatment of PMR.17 This recommendation is based on lack of evidence for benefit as well as considerable potential for harm.   REFERENCES   1\\. Humira® subcutaneous injection [prescribing information]. North Chicago, IL: AbbVie\n",
      "score: 4.256323. Prior Authorization is recommended for prescription benefit coverage of adalimumab products. All approvals are provided for the duration noted below. In cases where the approval is authorized in months, 1 month is equal to 30 days. Because of the specialized skills required for evaluation and diagnosis of patients treated with adalimumab products as well as the monitoring required for adverse events and long-term efficacy, initial approval requires the agent to be prescribed by or in consultation with a physician who specializes in the condition being treated.   · Abrilada™ (adalimumab-afzb subcutaneous injection - Pfizer)   · adalimumab-aacf subcutaneous injection (Fresenius Kabi)   · adalimumab-adaz subcutaneous injection (Sandoz/Novartis)   · adalimumab-adbm subcutaneous injection (Boehringer Ingelheim)   · adalimumab-fkjp subcutaneous injection (Mylan)   · adalimumab-ryvk subcutaneous injection (Teva/Alvotech)   · Amjevita (adalimumab-atto subcutaneous injection - Amgen)   · Cyltez\n"
     ]
    }
   ],
   "source": [
    "# keyword search\n",
    "r = search_client.search(search_query, top=5)\n",
    "for doc in r:\n",
    "    if \"Inflammatory Conditions\" in doc[\"chunk\"]:\n",
    "        content = doc[\"chunk\"].replace(\"\\n\", \" \")[:1000]\n",
    "        print(f\"score: {doc['@search.score']}. {content}\")"
   ]
  },
  {
   "cell_type": "markdown",
   "metadata": {},
   "source": [
    "## Vector Search \n",
    "\n",
    "This method also uses the `@search.score` parameter but uses the HNSW (Hierarchical Navigable Small World) algorithm for scoring. The HNSW algorithm is an efficient method for nearest neighbor search in high dimensional spaces. The scoring range is 0.333 - 1.00 for Cosine similarity, and 0 to 1 for Euclidean and DotProduct similarities."
   ]
  },
  {
   "cell_type": "code",
   "execution_count": 13,
   "metadata": {},
   "outputs": [
    {
     "name": "stdout",
     "output_type": "stream",
     "text": [
      "score: 0.77632785, reranker: None. POLICY:   Inflammatory Conditions - Adalimumab Products Prior Authorization   Policy   · Abrilada™ (adalimumab-afzb subcutaneous injection - Pfizer)   · adalimumab-aacf subcutaneous injection (Fresenius Kabi)   · adalimumab-adaz subcutaneous injection (Sandoz/Novartis)   · adalimumab-adbm subcutaneous injection (Boehringer Ingelheim)   · adalimumab-fkjp subcutaneous injection (Mylan)   · adalimumab-ryvk subcutaneous injection (Teva/Alvotech)   · Amjevita® (adalimumab-atto subcutaneous injection - Amgen)   · Cyltezo® (adalimumab-adbm subcutaneous injection - Boehringer Ingelheim)   · Hadlima™ (adalimumab-bwwd subcutaneous injection –   Organon/Samsung Bioepis)   · Hulio® (adalimumab-fkjp subcutaneous injection - Mylan)   · Humira® (adalimumab subcutaneous injection - AbbVie, Cordavis)   . Hyrimoz® (adalimumab-adaz subcutaneous Sandoz/Novartis, Cordavis) injection –   · Idacio® (adalimumab-aacf subcutaneous injection - Fresenius Kabi)   · Simlandi® (adalimumab-ryvk subcutaneous injection\n",
      "score: 0.75237834, reranker: None. Page 1 of 21 - Cigna National Formulary Coverage - Policy:Inflammatory Conditions - Adalimumab Products Prior Authorization Policy   <!-- PageBreak -->\n",
      "score: 0.7504857, reranker: None. Prior Authorization is recommended for prescription benefit coverage of adalimumab products. All approvals are provided for the duration noted below. In cases where the approval is authorized in months, 1 month is equal to 30 days. Because of the specialized skills required for evaluation and diagnosis of patients treated with adalimumab products as well as the monitoring required for adverse events and long-term efficacy, initial approval requires the agent to be prescribed by or in consultation with a physician who specializes in the condition being treated.   · Abrilada™ (adalimumab-afzb subcutaneous injection - Pfizer)   · adalimumab-aacf subcutaneous injection (Fresenius Kabi)   · adalimumab-adaz subcutaneous injection (Sandoz/Novartis)   · adalimumab-adbm subcutaneous injection (Boehringer Ingelheim)   · adalimumab-fkjp subcutaneous injection (Mylan)   · adalimumab-ryvk subcutaneous injection (Teva/Alvotech)   · Amjevita (adalimumab-atto subcutaneous injection - Amgen)   · Cyltez\n",
      "score: 0.7370255, reranker: None. 3 Pages - Cigna National Formulary Coverage - Policy:Inflammatory Conditions - Adalimumab Products Prior Authorization Policy   <!-- PageBreak -->   <table> <tr> <th colspan=\"3\">Oral Therapies/Targeted Synthetic Oral Small Molecule Drugs</th> </tr> <tr> <th>Otezla® (apremilast tablets)</th> <th>Inhibition of PDE4</th> <th>PsO, PsA</th> </tr> <tr> <td>Cibinqo™ (abrocitinib tablets)</td> <td>Inhibition of JAK pathways</td> <td>AD</td> </tr> <tr> <td>Olumiant® (baricitinib tablets)</td> <td>Inhibition of JAK pathways</td> <td>RA, AA</td> </tr> <tr> <td>Litfulo® (ritlecitinib capsules)</td> <td>Inhibition of JAK pathways</td> <td>AA</td> </tr> <tr> <td>Leqselvi® (deuruxolitinib tablets)</td> <td>Inhibition of JAK pathways</td> <td>AA</td> </tr> <tr> <td>Rinvoq® (upadacitinib extended- release tablets)</td> <td>Inhibition of JAK pathways</td> <td>AD, AS, nr-axSpA, RA, PsA, UC</td> </tr> <tr> <td>Rinvoq® LQ (upadacitinib oral solution)</td> <td>Inhibition of JAK pathways</td> <td>PSA, PJIA</\n",
      "score: 0.73227555, reranker: None. 1\\. Concurrent Use with a Biologic or with a Targeted Synthetic Oral Small Molecule Drug. This medication should not be administered in combination with another biologic or with a targeted synthetic oral small molecule drug used for an inflammatory condition (see Appendix for examples). Combination therapy is generally not recommended due to a potentially higher rate of adverse events and lack of controlled clinical data supporting additive efficacy.   Note: This does NOT exclude the use of conventional synthetic DMARDs (e.g., methotrexate, leflunomide, hydroxychloroquine, or sulfasalazine) in combination with this medication.   2\\. Polymyalgia Rheumatica (PMR). EULAR/ACR guidelines for the management of PMR (2015) strongly recommend against the use of TNFis for treatment of PMR.17 This recommendation is based on lack of evidence for benefit as well as considerable potential for harm.   REFERENCES   1\\. Humira® subcutaneous injection [prescribing information]. North Chicago, IL: AbbVie\n"
     ]
    }
   ],
   "source": [
    "# vector search\n",
    "r = search_client.search(\n",
    "    top=5,\n",
    "    vector_queries=[\n",
    "        VectorizedQuery(vector=search_vector.data[0].embedding, k_nearest_neighbors=50, fields=\"vector\", weight=0.5),\n",
    "    ],\n",
    ")\n",
    "\n",
    "# Iterate through the search results and print all metadata\n",
    "for doc in r:\n",
    "    content = doc[\"chunk\"].replace(\"\\n\", \" \")[:1000]\n",
    "    print(\n",
    "        f\"score: {doc['@search.score']}, reranker: {doc['@search.reranker_score']}. {content}\"\n",
    "    )"
   ]
  },
  {
   "cell_type": "markdown",
   "metadata": {},
   "source": [
    "## Hybrid search\n",
    "\n",
    "This method uses the `@search.score` parameter and the RRF (Reciprocal Rank Fusion) algorithm for scoring. The RRF algorithm is a method for data fusion that combines the results of multiple queries. The upper limit of the score is bounded by the number of queries being fused, with each query contributing a maximum of approximately 1 to the RRF score. For example, merging three queries would produce higher RRF scores than if only two search results are merged."
   ]
  },
  {
   "cell_type": "code",
   "execution_count": 14,
   "metadata": {},
   "outputs": [
    {
     "name": "stdout",
     "output_type": "stream",
     "text": [
      "score: 0.024242425337433815, reranker: None. 1\\. Ankylosing Spondylitis. Approve for the duration noted if the patient meets ONE of the following (A or B):   A) Initial Therapy. Approve for 6 months if the patient meets BOTH of the following (i and ii):   i. Patient is ≥ 18 years of age; AND   ii. The medication is prescribed by or in consultation with a rheumatologist.   B) Patient is Currently Receiving an Adalimumab Product. Approve for 1 year if the patient meets BOTH of the following (i and ii):   i. Patient has been established on therapy for at least 6 months; AND Note: A patient who has received < 6 months of therapy or who is restarting therapy with an adalimumab product is reviewed under criterion A (Initial Therapy).   ii. Patient meets at least ONE of the following (a or b):   a) When assessed by at least one objective measure, patient experienced a beneficial clinical response from baseline (prior to initiating an adalimumab product); OR Note: Examples of objective measures include Ankylosing Spondylitis Disease Acti\n",
      "score: 0.024085748940706253, reranker: None. TNFis are featured prominently in guidelines for treatment of inflammatory conditions.   · Ankylosing Spondylitis and Spondyloarthritis: Guidelines for ankylosing spondylitis and non-radiographic axial spondylitis are published by the American College of Rheumatology (ACR)/Spondylitis Association of America/Spondyloarthritis Research and Treatment Network (2019).3 TNFis are recommended as the initial biologic. In those who are secondary non-responders to a TNFi, a second TNFi is recommended over switching out of the class.   · Crohn's Disease: The American College of Gastroenterology (ACG) has guidelines for Crohn's disease (2018).4 TNFis are listed as an option for disease that is resistant to corticosteroids, severely active disease, perianal fistulizing disease, and maintenance of remission. In post-operative Crohn's disease, a TNFi should be started within 4 weeks of surgery to prevent recurrence. Guidelines from the American Gastroenterological Association (AGA) [2021] include TNF\n",
      "score: 0.023941531777381897, reranker: None. 1\\. Concurrent Use with a Biologic or with a Targeted Synthetic Oral Small Molecule Drug. This medication should not be administered in combination with another biologic or with a targeted synthetic oral small molecule drug used for an inflammatory condition (see Appendix for examples). Combination therapy is generally not recommended due to a potentially higher rate of adverse events and lack of controlled clinical data supporting additive efficacy.   Note: This does NOT exclude the use of conventional synthetic DMARDs (e.g., methotrexate, leflunomide, hydroxychloroquine, or sulfasalazine) in combination with this medication.   2\\. Polymyalgia Rheumatica (PMR). EULAR/ACR guidelines for the management of PMR (2015) strongly recommend against the use of TNFis for treatment of PMR.17 This recommendation is based on lack of evidence for benefit as well as considerable potential for harm.   REFERENCES   1\\. Humira® subcutaneous injection [prescribing information]. North Chicago, IL: AbbVie\n",
      "score: 0.023937532678246498, reranker: None. Prior Authorization is recommended for prescription benefit coverage of adalimumab products. All approvals are provided for the duration noted below. In cases where the approval is authorized in months, 1 month is equal to 30 days. Because of the specialized skills required for evaluation and diagnosis of patients treated with adalimumab products as well as the monitoring required for adverse events and long-term efficacy, initial approval requires the agent to be prescribed by or in consultation with a physician who specializes in the condition being treated.   · Abrilada™ (adalimumab-afzb subcutaneous injection - Pfizer)   · adalimumab-aacf subcutaneous injection (Fresenius Kabi)   · adalimumab-adaz subcutaneous injection (Sandoz/Novartis)   · adalimumab-adbm subcutaneous injection (Boehringer Ingelheim)   · adalimumab-fkjp subcutaneous injection (Mylan)   · adalimumab-ryvk subcutaneous injection (Teva/Alvotech)   · Amjevita (adalimumab-atto subcutaneous injection - Amgen)   · Cyltez\n",
      "score: 0.023122094571590424, reranker: None. Page 1 of 21 - Cigna National Formulary Coverage - Policy:Inflammatory Conditions - Adalimumab Products Prior Authorization Policy   <!-- PageBreak -->\n"
     ]
    }
   ],
   "source": [
    "# Hybrid retrieval + rerank\n",
    "r = search_client.search(\n",
    "    search_text=search_query,\n",
    "    top=5,\n",
    "    vector_queries=[\n",
    "        VectorizedQuery(vector=search_vector.data[0].embedding, k_nearest_neighbors=50, fields=\"vector\", weight=0.5),\n",
    "    ],\n",
    ")\n",
    "\n",
    "# Iterate through the search results and print all metadata\n",
    "for doc in r:\n",
    "    content = doc[\"chunk\"].replace(\"\\n\", \" \")[:1000]\n",
    "    print(\n",
    "        f\"score: {doc['@search.score']}, reranker: {doc['@search.reranker_score']}. {content}\"\n",
    "    )"
   ]
  },
  {
   "cell_type": "markdown",
   "metadata": {},
   "source": [
    "#### Enable Exhaustive `ExhaustiveKnn`"
   ]
  },
  {
   "cell_type": "code",
   "execution_count": null,
   "metadata": {},
   "outputs": [
    {
     "name": "stdout",
     "output_type": "stream",
     "text": [
      "score: 0.024242425337433815, reranker: None. 1\\. Ankylosing Spondylitis. Approve for the duration noted if the patient meets ONE of the following (A or B):   A) Initial Therapy. Approve for 6 months if the patient meets BOTH of the following (i and ii):   i. Patient is ≥ 18 years of age; AND   ii. The medication is prescribed by or in consultation with a rheumatologist.   B) Patient is Currently Receiving an Adalimumab Product. Approve for 1 year if the patient meets BOTH of the following (i and ii):   i. Patient has been established on therapy for at least 6 months; AND Note: A patient who has received < 6 months of therapy or who is restarting therapy with an adalimumab product is reviewed under criterion A (Initial Therapy).   ii. Patient meets at least ONE of the following (a or b):   a) When assessed by at least one objective measure, patient experienced a beneficial clinical response from baseline (prior to initiating an adalimumab product); OR Note: Examples of objective measures include Ankylosing Spondylitis Disease Acti\n",
      "score: 0.024085748940706253, reranker: None. TNFis are featured prominently in guidelines for treatment of inflammatory conditions.   · Ankylosing Spondylitis and Spondyloarthritis: Guidelines for ankylosing spondylitis and non-radiographic axial spondylitis are published by the American College of Rheumatology (ACR)/Spondylitis Association of America/Spondyloarthritis Research and Treatment Network (2019).3 TNFis are recommended as the initial biologic. In those who are secondary non-responders to a TNFi, a second TNFi is recommended over switching out of the class.   · Crohn's Disease: The American College of Gastroenterology (ACG) has guidelines for Crohn's disease (2018).4 TNFis are listed as an option for disease that is resistant to corticosteroids, severely active disease, perianal fistulizing disease, and maintenance of remission. In post-operative Crohn's disease, a TNFi should be started within 4 weeks of surgery to prevent recurrence. Guidelines from the American Gastroenterological Association (AGA) [2021] include TNF\n",
      "score: 0.023941531777381897, reranker: None. 1\\. Concurrent Use with a Biologic or with a Targeted Synthetic Oral Small Molecule Drug. This medication should not be administered in combination with another biologic or with a targeted synthetic oral small molecule drug used for an inflammatory condition (see Appendix for examples). Combination therapy is generally not recommended due to a potentially higher rate of adverse events and lack of controlled clinical data supporting additive efficacy.   Note: This does NOT exclude the use of conventional synthetic DMARDs (e.g., methotrexate, leflunomide, hydroxychloroquine, or sulfasalazine) in combination with this medication.   2\\. Polymyalgia Rheumatica (PMR). EULAR/ACR guidelines for the management of PMR (2015) strongly recommend against the use of TNFis for treatment of PMR.17 This recommendation is based on lack of evidence for benefit as well as considerable potential for harm.   REFERENCES   1\\. Humira® subcutaneous injection [prescribing information]. North Chicago, IL: AbbVie\n",
      "score: 0.023937532678246498, reranker: None. Prior Authorization is recommended for prescription benefit coverage of adalimumab products. All approvals are provided for the duration noted below. In cases where the approval is authorized in months, 1 month is equal to 30 days. Because of the specialized skills required for evaluation and diagnosis of patients treated with adalimumab products as well as the monitoring required for adverse events and long-term efficacy, initial approval requires the agent to be prescribed by or in consultation with a physician who specializes in the condition being treated.   · Abrilada™ (adalimumab-afzb subcutaneous injection - Pfizer)   · adalimumab-aacf subcutaneous injection (Fresenius Kabi)   · adalimumab-adaz subcutaneous injection (Sandoz/Novartis)   · adalimumab-adbm subcutaneous injection (Boehringer Ingelheim)   · adalimumab-fkjp subcutaneous injection (Mylan)   · adalimumab-ryvk subcutaneous injection (Teva/Alvotech)   · Amjevita (adalimumab-atto subcutaneous injection - Amgen)   · Cyltez\n",
      "score: 0.023122094571590424, reranker: None. Page 1 of 21 - Cigna National Formulary Coverage - Policy:Inflammatory Conditions - Adalimumab Products Prior Authorization Policy   <!-- PageBreak -->\n"
     ]
    }
   ],
   "source": [
    "# Vector retrieval\n",
    "r = search_client.search(\n",
    "    search_text=search_query,\n",
    "    top=5,\n",
    "    vector_queries=[\n",
    "        VectorizedQuery(vector=search_vector.data[0].embedding, exhaustive=True, k_nearest_neighbors=50, fields=\"vector\", weight=0.5),\n",
    "    ],\n",
    ")\n",
    "\n",
    "# Iterate through the search results and print all metadata\n",
    "for doc in r:\n",
    "    content = doc[\"chunk\"].replace(\"\\n\", \" \")[:1000]\n",
    "    print(\n",
    "        f\"score: {doc['@search.score']}, reranker: {doc['@search.reranker_score']}. {content}\"\n",
    "    )"
   ]
  },
  {
   "cell_type": "markdown",
   "metadata": {},
   "source": [
    "## Semantic ranking\n",
    "\n",
    "This method uses the `@search.rerankerScore` parameter and a semantic ranking algorithm for scoring. Semantic ranking is a method that uses machine learning models to understand the semantic content of the queries and documents, and ranks the documents based on their relevance to the query. The scoring range is 0.00 - 4.00 in this method.\n",
    "\n",
    "Remember, a higher score indicates a higher relevance of the document to the query."
   ]
  },
  {
   "cell_type": "code",
   "execution_count": 18,
   "metadata": {},
   "outputs": [
    {
     "ename": "ServiceRequestError",
     "evalue": "<urllib3.connection.HTTPSConnection object at 0x0000027A5B32EE30>: Failed to resolve 'search-ai-factory-centralus.search.windows.net' ([Errno 11002] getaddrinfo failed)",
     "output_type": "error",
     "traceback": [
      "\u001b[1;31m---------------------------------------------------------------------------\u001b[0m",
      "\u001b[1;31mServiceRequestError\u001b[0m                       Traceback (most recent call last)",
      "Cell \u001b[1;32mIn[18], line 16\u001b[0m\n\u001b[0;32m      2\u001b[0m r \u001b[38;5;241m=\u001b[39m search_client\u001b[38;5;241m.\u001b[39msearch(\n\u001b[0;32m      3\u001b[0m     search_text\u001b[38;5;241m=\u001b[39msearch_query,\n\u001b[0;32m      4\u001b[0m     top\u001b[38;5;241m=\u001b[39m\u001b[38;5;241m5\u001b[39m,\n\u001b[1;32m   (...)\u001b[0m\n\u001b[0;32m     12\u001b[0m     query_answer\u001b[38;5;241m=\u001b[39mQueryAnswerType\u001b[38;5;241m.\u001b[39mEXTRACTIVE,\n\u001b[0;32m     13\u001b[0m )\n\u001b[0;32m     15\u001b[0m \u001b[38;5;66;03m# Iterate through the search results and print all metadata\u001b[39;00m\n\u001b[1;32m---> 16\u001b[0m \u001b[38;5;28;01mfor\u001b[39;00m doc \u001b[38;5;129;01min\u001b[39;00m r:\n\u001b[0;32m     17\u001b[0m     content \u001b[38;5;241m=\u001b[39m doc[\u001b[38;5;124m\"\u001b[39m\u001b[38;5;124mchunk\u001b[39m\u001b[38;5;124m\"\u001b[39m]\u001b[38;5;241m.\u001b[39mreplace(\u001b[38;5;124m\"\u001b[39m\u001b[38;5;130;01m\\n\u001b[39;00m\u001b[38;5;124m\"\u001b[39m, \u001b[38;5;124m\"\u001b[39m\u001b[38;5;124m \u001b[39m\u001b[38;5;124m\"\u001b[39m)[:\u001b[38;5;241m1000\u001b[39m]\n\u001b[0;32m     18\u001b[0m     \u001b[38;5;28mprint\u001b[39m(\n\u001b[0;32m     19\u001b[0m         \u001b[38;5;124mf\u001b[39m\u001b[38;5;124m\"\u001b[39m\u001b[38;5;124mscore: \u001b[39m\u001b[38;5;132;01m{\u001b[39;00mdoc[\u001b[38;5;124m'\u001b[39m\u001b[38;5;124m@search.score\u001b[39m\u001b[38;5;124m'\u001b[39m]\u001b[38;5;132;01m}\u001b[39;00m\u001b[38;5;124m, reranker: \u001b[39m\u001b[38;5;132;01m{\u001b[39;00mdoc[\u001b[38;5;124m'\u001b[39m\u001b[38;5;124m@search.reranker_score\u001b[39m\u001b[38;5;124m'\u001b[39m]\u001b[38;5;132;01m}\u001b[39;00m\u001b[38;5;124m. \u001b[39m\u001b[38;5;132;01m{\u001b[39;00mcontent\u001b[38;5;132;01m}\u001b[39;00m\u001b[38;5;124m\"\u001b[39m\n\u001b[0;32m     20\u001b[0m     )\n",
      "File \u001b[1;32mc:\\Users\\pablosal\\AppData\\Local\\anaconda3\\envs\\mediindexer\\lib\\site-packages\\azure\\search\\documents\\_paging.py:54\u001b[0m, in \u001b[0;36mSearchItemPaged.__next__\u001b[1;34m(self)\u001b[0m\n\u001b[0;32m     52\u001b[0m     first_iterator \u001b[38;5;241m=\u001b[39m \u001b[38;5;28mself\u001b[39m\u001b[38;5;241m.\u001b[39m_first_iterator_instance()\n\u001b[0;32m     53\u001b[0m     \u001b[38;5;28mself\u001b[39m\u001b[38;5;241m.\u001b[39m_page_iterator \u001b[38;5;241m=\u001b[39m itertools\u001b[38;5;241m.\u001b[39mchain\u001b[38;5;241m.\u001b[39mfrom_iterable(first_iterator)\n\u001b[1;32m---> 54\u001b[0m \u001b[38;5;28;01mreturn\u001b[39;00m \u001b[38;5;28;43mnext\u001b[39;49m\u001b[43m(\u001b[49m\u001b[38;5;28;43mself\u001b[39;49m\u001b[38;5;241;43m.\u001b[39;49m\u001b[43m_page_iterator\u001b[49m\u001b[43m)\u001b[49m\n",
      "File \u001b[1;32mc:\\Users\\pablosal\\AppData\\Local\\anaconda3\\envs\\mediindexer\\lib\\site-packages\\azure\\core\\paging.py:75\u001b[0m, in \u001b[0;36mPageIterator.__next__\u001b[1;34m(self)\u001b[0m\n\u001b[0;32m     73\u001b[0m     \u001b[38;5;28;01mraise\u001b[39;00m \u001b[38;5;167;01mStopIteration\u001b[39;00m(\u001b[38;5;124m\"\u001b[39m\u001b[38;5;124mEnd of paging\u001b[39m\u001b[38;5;124m\"\u001b[39m)\n\u001b[0;32m     74\u001b[0m \u001b[38;5;28;01mtry\u001b[39;00m:\n\u001b[1;32m---> 75\u001b[0m     \u001b[38;5;28mself\u001b[39m\u001b[38;5;241m.\u001b[39m_response \u001b[38;5;241m=\u001b[39m \u001b[38;5;28;43mself\u001b[39;49m\u001b[38;5;241;43m.\u001b[39;49m\u001b[43m_get_next\u001b[49m\u001b[43m(\u001b[49m\u001b[38;5;28;43mself\u001b[39;49m\u001b[38;5;241;43m.\u001b[39;49m\u001b[43mcontinuation_token\u001b[49m\u001b[43m)\u001b[49m\n\u001b[0;32m     76\u001b[0m \u001b[38;5;28;01mexcept\u001b[39;00m AzureError \u001b[38;5;28;01mas\u001b[39;00m error:\n\u001b[0;32m     77\u001b[0m     \u001b[38;5;28;01mif\u001b[39;00m \u001b[38;5;129;01mnot\u001b[39;00m error\u001b[38;5;241m.\u001b[39mcontinuation_token:\n",
      "File \u001b[1;32mc:\\Users\\pablosal\\AppData\\Local\\anaconda3\\envs\\mediindexer\\lib\\site-packages\\azure\\search\\documents\\_paging.py:125\u001b[0m, in \u001b[0;36mSearchPageIterator._get_next_cb\u001b[1;34m(self, continuation_token)\u001b[0m\n\u001b[0;32m    123\u001b[0m \u001b[38;5;28;01mdef\u001b[39;00m\u001b[38;5;250m \u001b[39m\u001b[38;5;21m_get_next_cb\u001b[39m(\u001b[38;5;28mself\u001b[39m, continuation_token):\n\u001b[0;32m    124\u001b[0m     \u001b[38;5;28;01mif\u001b[39;00m continuation_token \u001b[38;5;129;01mis\u001b[39;00m \u001b[38;5;28;01mNone\u001b[39;00m:\n\u001b[1;32m--> 125\u001b[0m         \u001b[38;5;28;01mreturn\u001b[39;00m \u001b[38;5;28mself\u001b[39m\u001b[38;5;241m.\u001b[39m_client\u001b[38;5;241m.\u001b[39mdocuments\u001b[38;5;241m.\u001b[39msearch_post(search_request\u001b[38;5;241m=\u001b[39m\u001b[38;5;28mself\u001b[39m\u001b[38;5;241m.\u001b[39m_initial_query\u001b[38;5;241m.\u001b[39mrequest, \u001b[38;5;241m*\u001b[39m\u001b[38;5;241m*\u001b[39m\u001b[38;5;28mself\u001b[39m\u001b[38;5;241m.\u001b[39m_kwargs)\n\u001b[0;32m    127\u001b[0m     _next_link, next_page_request \u001b[38;5;241m=\u001b[39m unpack_continuation_token(continuation_token)\n\u001b[0;32m    129\u001b[0m     \u001b[38;5;28;01mreturn\u001b[39;00m \u001b[38;5;28mself\u001b[39m\u001b[38;5;241m.\u001b[39m_client\u001b[38;5;241m.\u001b[39mdocuments\u001b[38;5;241m.\u001b[39msearch_post(search_request\u001b[38;5;241m=\u001b[39mnext_page_request, \u001b[38;5;241m*\u001b[39m\u001b[38;5;241m*\u001b[39m\u001b[38;5;28mself\u001b[39m\u001b[38;5;241m.\u001b[39m_kwargs)\n",
      "File \u001b[1;32mc:\\Users\\pablosal\\AppData\\Local\\anaconda3\\envs\\mediindexer\\lib\\site-packages\\azure\\core\\tracing\\decorator.py:116\u001b[0m, in \u001b[0;36mdistributed_trace.<locals>.decorator.<locals>.wrapper_use_tracer\u001b[1;34m(*args, **kwargs)\u001b[0m\n\u001b[0;32m    114\u001b[0m \u001b[38;5;28;01mfor\u001b[39;00m key, value \u001b[38;5;129;01min\u001b[39;00m func_tracing_attributes\u001b[38;5;241m.\u001b[39mitems():\n\u001b[0;32m    115\u001b[0m     span\u001b[38;5;241m.\u001b[39madd_attribute(key, value)\n\u001b[1;32m--> 116\u001b[0m \u001b[38;5;28;01mreturn\u001b[39;00m func(\u001b[38;5;241m*\u001b[39margs, \u001b[38;5;241m*\u001b[39m\u001b[38;5;241m*\u001b[39mkwargs)\n",
      "File \u001b[1;32mc:\\Users\\pablosal\\AppData\\Local\\anaconda3\\envs\\mediindexer\\lib\\site-packages\\azure\\search\\documents\\_generated\\operations\\_documents_operations.py:769\u001b[0m, in \u001b[0;36mDocumentsOperations.search_post\u001b[1;34m(self, search_request, request_options, **kwargs)\u001b[0m\n\u001b[0;32m    766\u001b[0m _request\u001b[38;5;241m.\u001b[39murl \u001b[38;5;241m=\u001b[39m \u001b[38;5;28mself\u001b[39m\u001b[38;5;241m.\u001b[39m_client\u001b[38;5;241m.\u001b[39mformat_url(_request\u001b[38;5;241m.\u001b[39murl, \u001b[38;5;241m*\u001b[39m\u001b[38;5;241m*\u001b[39mpath_format_arguments)\n\u001b[0;32m    768\u001b[0m _stream \u001b[38;5;241m=\u001b[39m \u001b[38;5;28;01mFalse\u001b[39;00m\n\u001b[1;32m--> 769\u001b[0m pipeline_response: PipelineResponse \u001b[38;5;241m=\u001b[39m \u001b[38;5;28mself\u001b[39m\u001b[38;5;241m.\u001b[39m_client\u001b[38;5;241m.\u001b[39m_pipeline\u001b[38;5;241m.\u001b[39mrun(  \u001b[38;5;66;03m# pylint: disable=protected-access\u001b[39;00m\n\u001b[0;32m    770\u001b[0m     _request, stream\u001b[38;5;241m=\u001b[39m_stream, \u001b[38;5;241m*\u001b[39m\u001b[38;5;241m*\u001b[39mkwargs\n\u001b[0;32m    771\u001b[0m )\n\u001b[0;32m    773\u001b[0m response \u001b[38;5;241m=\u001b[39m pipeline_response\u001b[38;5;241m.\u001b[39mhttp_response\n\u001b[0;32m    775\u001b[0m \u001b[38;5;28;01mif\u001b[39;00m response\u001b[38;5;241m.\u001b[39mstatus_code \u001b[38;5;129;01mnot\u001b[39;00m \u001b[38;5;129;01min\u001b[39;00m [\u001b[38;5;241m200\u001b[39m]:\n",
      "File \u001b[1;32mc:\\Users\\pablosal\\AppData\\Local\\anaconda3\\envs\\mediindexer\\lib\\site-packages\\azure\\core\\pipeline\\_base.py:240\u001b[0m, in \u001b[0;36mPipeline.run\u001b[1;34m(self, request, **kwargs)\u001b[0m\n\u001b[0;32m    238\u001b[0m pipeline_request: PipelineRequest[HTTPRequestType] \u001b[38;5;241m=\u001b[39m PipelineRequest(request, context)\n\u001b[0;32m    239\u001b[0m first_node \u001b[38;5;241m=\u001b[39m \u001b[38;5;28mself\u001b[39m\u001b[38;5;241m.\u001b[39m_impl_policies[\u001b[38;5;241m0\u001b[39m] \u001b[38;5;28;01mif\u001b[39;00m \u001b[38;5;28mself\u001b[39m\u001b[38;5;241m.\u001b[39m_impl_policies \u001b[38;5;28;01melse\u001b[39;00m _TransportRunner(\u001b[38;5;28mself\u001b[39m\u001b[38;5;241m.\u001b[39m_transport)\n\u001b[1;32m--> 240\u001b[0m \u001b[38;5;28;01mreturn\u001b[39;00m \u001b[43mfirst_node\u001b[49m\u001b[38;5;241;43m.\u001b[39;49m\u001b[43msend\u001b[49m\u001b[43m(\u001b[49m\u001b[43mpipeline_request\u001b[49m\u001b[43m)\u001b[49m\n",
      "File \u001b[1;32mc:\\Users\\pablosal\\AppData\\Local\\anaconda3\\envs\\mediindexer\\lib\\site-packages\\azure\\core\\pipeline\\_base.py:96\u001b[0m, in \u001b[0;36m_SansIOHTTPPolicyRunner.send\u001b[1;34m(self, request)\u001b[0m\n\u001b[0;32m     94\u001b[0m _await_result(\u001b[38;5;28mself\u001b[39m\u001b[38;5;241m.\u001b[39m_policy\u001b[38;5;241m.\u001b[39mon_request, request)\n\u001b[0;32m     95\u001b[0m \u001b[38;5;28;01mtry\u001b[39;00m:\n\u001b[1;32m---> 96\u001b[0m     response \u001b[38;5;241m=\u001b[39m \u001b[38;5;28;43mself\u001b[39;49m\u001b[38;5;241;43m.\u001b[39;49m\u001b[43mnext\u001b[49m\u001b[38;5;241;43m.\u001b[39;49m\u001b[43msend\u001b[49m\u001b[43m(\u001b[49m\u001b[43mrequest\u001b[49m\u001b[43m)\u001b[49m\n\u001b[0;32m     97\u001b[0m \u001b[38;5;28;01mexcept\u001b[39;00m \u001b[38;5;167;01mException\u001b[39;00m:\n\u001b[0;32m     98\u001b[0m     _await_result(\u001b[38;5;28mself\u001b[39m\u001b[38;5;241m.\u001b[39m_policy\u001b[38;5;241m.\u001b[39mon_exception, request)\n",
      "File \u001b[1;32mc:\\Users\\pablosal\\AppData\\Local\\anaconda3\\envs\\mediindexer\\lib\\site-packages\\azure\\core\\pipeline\\_base.py:96\u001b[0m, in \u001b[0;36m_SansIOHTTPPolicyRunner.send\u001b[1;34m(self, request)\u001b[0m\n\u001b[0;32m     94\u001b[0m _await_result(\u001b[38;5;28mself\u001b[39m\u001b[38;5;241m.\u001b[39m_policy\u001b[38;5;241m.\u001b[39mon_request, request)\n\u001b[0;32m     95\u001b[0m \u001b[38;5;28;01mtry\u001b[39;00m:\n\u001b[1;32m---> 96\u001b[0m     response \u001b[38;5;241m=\u001b[39m \u001b[38;5;28;43mself\u001b[39;49m\u001b[38;5;241;43m.\u001b[39;49m\u001b[43mnext\u001b[49m\u001b[38;5;241;43m.\u001b[39;49m\u001b[43msend\u001b[49m\u001b[43m(\u001b[49m\u001b[43mrequest\u001b[49m\u001b[43m)\u001b[49m\n\u001b[0;32m     97\u001b[0m \u001b[38;5;28;01mexcept\u001b[39;00m \u001b[38;5;167;01mException\u001b[39;00m:\n\u001b[0;32m     98\u001b[0m     _await_result(\u001b[38;5;28mself\u001b[39m\u001b[38;5;241m.\u001b[39m_policy\u001b[38;5;241m.\u001b[39mon_exception, request)\n",
      "    \u001b[1;31m[... skipping similar frames: _SansIOHTTPPolicyRunner.send at line 96 (2 times)]\u001b[0m\n",
      "File \u001b[1;32mc:\\Users\\pablosal\\AppData\\Local\\anaconda3\\envs\\mediindexer\\lib\\site-packages\\azure\\core\\pipeline\\_base.py:96\u001b[0m, in \u001b[0;36m_SansIOHTTPPolicyRunner.send\u001b[1;34m(self, request)\u001b[0m\n\u001b[0;32m     94\u001b[0m _await_result(\u001b[38;5;28mself\u001b[39m\u001b[38;5;241m.\u001b[39m_policy\u001b[38;5;241m.\u001b[39mon_request, request)\n\u001b[0;32m     95\u001b[0m \u001b[38;5;28;01mtry\u001b[39;00m:\n\u001b[1;32m---> 96\u001b[0m     response \u001b[38;5;241m=\u001b[39m \u001b[38;5;28;43mself\u001b[39;49m\u001b[38;5;241;43m.\u001b[39;49m\u001b[43mnext\u001b[49m\u001b[38;5;241;43m.\u001b[39;49m\u001b[43msend\u001b[49m\u001b[43m(\u001b[49m\u001b[43mrequest\u001b[49m\u001b[43m)\u001b[49m\n\u001b[0;32m     97\u001b[0m \u001b[38;5;28;01mexcept\u001b[39;00m \u001b[38;5;167;01mException\u001b[39;00m:\n\u001b[0;32m     98\u001b[0m     _await_result(\u001b[38;5;28mself\u001b[39m\u001b[38;5;241m.\u001b[39m_policy\u001b[38;5;241m.\u001b[39mon_exception, request)\n",
      "File \u001b[1;32mc:\\Users\\pablosal\\AppData\\Local\\anaconda3\\envs\\mediindexer\\lib\\site-packages\\azure\\core\\pipeline\\policies\\_redirect.py:204\u001b[0m, in \u001b[0;36mRedirectPolicy.send\u001b[1;34m(self, request)\u001b[0m\n\u001b[0;32m    202\u001b[0m original_domain \u001b[38;5;241m=\u001b[39m get_domain(request\u001b[38;5;241m.\u001b[39mhttp_request\u001b[38;5;241m.\u001b[39murl) \u001b[38;5;28;01mif\u001b[39;00m redirect_settings[\u001b[38;5;124m\"\u001b[39m\u001b[38;5;124mallow\u001b[39m\u001b[38;5;124m\"\u001b[39m] \u001b[38;5;28;01melse\u001b[39;00m \u001b[38;5;28;01mNone\u001b[39;00m\n\u001b[0;32m    203\u001b[0m \u001b[38;5;28;01mwhile\u001b[39;00m retryable:\n\u001b[1;32m--> 204\u001b[0m     response \u001b[38;5;241m=\u001b[39m \u001b[38;5;28;43mself\u001b[39;49m\u001b[38;5;241;43m.\u001b[39;49m\u001b[43mnext\u001b[49m\u001b[38;5;241;43m.\u001b[39;49m\u001b[43msend\u001b[49m\u001b[43m(\u001b[49m\u001b[43mrequest\u001b[49m\u001b[43m)\u001b[49m\n\u001b[0;32m    205\u001b[0m     redirect_location \u001b[38;5;241m=\u001b[39m \u001b[38;5;28mself\u001b[39m\u001b[38;5;241m.\u001b[39mget_redirect_location(response)\n\u001b[0;32m    206\u001b[0m     \u001b[38;5;28;01mif\u001b[39;00m redirect_location \u001b[38;5;129;01mand\u001b[39;00m redirect_settings[\u001b[38;5;124m\"\u001b[39m\u001b[38;5;124mallow\u001b[39m\u001b[38;5;124m\"\u001b[39m]:\n",
      "File \u001b[1;32mc:\\Users\\pablosal\\AppData\\Local\\anaconda3\\envs\\mediindexer\\lib\\site-packages\\azure\\core\\pipeline\\policies\\_retry.py:573\u001b[0m, in \u001b[0;36mRetryPolicy.send\u001b[1;34m(self, request)\u001b[0m\n\u001b[0;32m    571\u001b[0m                 is_response_error \u001b[38;5;241m=\u001b[39m \u001b[38;5;28;01mTrue\u001b[39;00m\n\u001b[0;32m    572\u001b[0m             \u001b[38;5;28;01mcontinue\u001b[39;00m\n\u001b[1;32m--> 573\u001b[0m     \u001b[38;5;28;01mraise\u001b[39;00m err\n\u001b[0;32m    574\u001b[0m \u001b[38;5;28;01mfinally\u001b[39;00m:\n\u001b[0;32m    575\u001b[0m     end_time \u001b[38;5;241m=\u001b[39m time\u001b[38;5;241m.\u001b[39mtime()\n",
      "File \u001b[1;32mc:\\Users\\pablosal\\AppData\\Local\\anaconda3\\envs\\mediindexer\\lib\\site-packages\\azure\\core\\pipeline\\policies\\_retry.py:551\u001b[0m, in \u001b[0;36mRetryPolicy.send\u001b[1;34m(self, request)\u001b[0m\n\u001b[0;32m    549\u001b[0m \u001b[38;5;28mself\u001b[39m\u001b[38;5;241m.\u001b[39m_configure_timeout(request, absolute_timeout, is_response_error)\n\u001b[0;32m    550\u001b[0m request\u001b[38;5;241m.\u001b[39mcontext[\u001b[38;5;124m\"\u001b[39m\u001b[38;5;124mretry_count\u001b[39m\u001b[38;5;124m\"\u001b[39m] \u001b[38;5;241m=\u001b[39m \u001b[38;5;28mlen\u001b[39m(retry_settings[\u001b[38;5;124m\"\u001b[39m\u001b[38;5;124mhistory\u001b[39m\u001b[38;5;124m\"\u001b[39m])\n\u001b[1;32m--> 551\u001b[0m response \u001b[38;5;241m=\u001b[39m \u001b[38;5;28;43mself\u001b[39;49m\u001b[38;5;241;43m.\u001b[39;49m\u001b[43mnext\u001b[49m\u001b[38;5;241;43m.\u001b[39;49m\u001b[43msend\u001b[49m\u001b[43m(\u001b[49m\u001b[43mrequest\u001b[49m\u001b[43m)\u001b[49m\n\u001b[0;32m    552\u001b[0m \u001b[38;5;28;01mif\u001b[39;00m \u001b[38;5;28mself\u001b[39m\u001b[38;5;241m.\u001b[39mis_retry(retry_settings, response):\n\u001b[0;32m    553\u001b[0m     retry_active \u001b[38;5;241m=\u001b[39m \u001b[38;5;28mself\u001b[39m\u001b[38;5;241m.\u001b[39mincrement(retry_settings, response\u001b[38;5;241m=\u001b[39mresponse)\n",
      "File \u001b[1;32mc:\\Users\\pablosal\\AppData\\Local\\anaconda3\\envs\\mediindexer\\lib\\site-packages\\azure\\core\\pipeline\\_base.py:96\u001b[0m, in \u001b[0;36m_SansIOHTTPPolicyRunner.send\u001b[1;34m(self, request)\u001b[0m\n\u001b[0;32m     94\u001b[0m _await_result(\u001b[38;5;28mself\u001b[39m\u001b[38;5;241m.\u001b[39m_policy\u001b[38;5;241m.\u001b[39mon_request, request)\n\u001b[0;32m     95\u001b[0m \u001b[38;5;28;01mtry\u001b[39;00m:\n\u001b[1;32m---> 96\u001b[0m     response \u001b[38;5;241m=\u001b[39m \u001b[38;5;28;43mself\u001b[39;49m\u001b[38;5;241;43m.\u001b[39;49m\u001b[43mnext\u001b[49m\u001b[38;5;241;43m.\u001b[39;49m\u001b[43msend\u001b[49m\u001b[43m(\u001b[49m\u001b[43mrequest\u001b[49m\u001b[43m)\u001b[49m\n\u001b[0;32m     97\u001b[0m \u001b[38;5;28;01mexcept\u001b[39;00m \u001b[38;5;167;01mException\u001b[39;00m:\n\u001b[0;32m     98\u001b[0m     _await_result(\u001b[38;5;28mself\u001b[39m\u001b[38;5;241m.\u001b[39m_policy\u001b[38;5;241m.\u001b[39mon_exception, request)\n",
      "File \u001b[1;32mc:\\Users\\pablosal\\AppData\\Local\\anaconda3\\envs\\mediindexer\\lib\\site-packages\\azure\\core\\pipeline\\_base.py:96\u001b[0m, in \u001b[0;36m_SansIOHTTPPolicyRunner.send\u001b[1;34m(self, request)\u001b[0m\n\u001b[0;32m     94\u001b[0m _await_result(\u001b[38;5;28mself\u001b[39m\u001b[38;5;241m.\u001b[39m_policy\u001b[38;5;241m.\u001b[39mon_request, request)\n\u001b[0;32m     95\u001b[0m \u001b[38;5;28;01mtry\u001b[39;00m:\n\u001b[1;32m---> 96\u001b[0m     response \u001b[38;5;241m=\u001b[39m \u001b[38;5;28;43mself\u001b[39;49m\u001b[38;5;241;43m.\u001b[39;49m\u001b[43mnext\u001b[49m\u001b[38;5;241;43m.\u001b[39;49m\u001b[43msend\u001b[49m\u001b[43m(\u001b[49m\u001b[43mrequest\u001b[49m\u001b[43m)\u001b[49m\n\u001b[0;32m     97\u001b[0m \u001b[38;5;28;01mexcept\u001b[39;00m \u001b[38;5;167;01mException\u001b[39;00m:\n\u001b[0;32m     98\u001b[0m     _await_result(\u001b[38;5;28mself\u001b[39m\u001b[38;5;241m.\u001b[39m_policy\u001b[38;5;241m.\u001b[39mon_exception, request)\n",
      "    \u001b[1;31m[... skipping similar frames: _SansIOHTTPPolicyRunner.send at line 96 (2 times)]\u001b[0m\n",
      "File \u001b[1;32mc:\\Users\\pablosal\\AppData\\Local\\anaconda3\\envs\\mediindexer\\lib\\site-packages\\azure\\core\\pipeline\\_base.py:96\u001b[0m, in \u001b[0;36m_SansIOHTTPPolicyRunner.send\u001b[1;34m(self, request)\u001b[0m\n\u001b[0;32m     94\u001b[0m _await_result(\u001b[38;5;28mself\u001b[39m\u001b[38;5;241m.\u001b[39m_policy\u001b[38;5;241m.\u001b[39mon_request, request)\n\u001b[0;32m     95\u001b[0m \u001b[38;5;28;01mtry\u001b[39;00m:\n\u001b[1;32m---> 96\u001b[0m     response \u001b[38;5;241m=\u001b[39m \u001b[38;5;28;43mself\u001b[39;49m\u001b[38;5;241;43m.\u001b[39;49m\u001b[43mnext\u001b[49m\u001b[38;5;241;43m.\u001b[39;49m\u001b[43msend\u001b[49m\u001b[43m(\u001b[49m\u001b[43mrequest\u001b[49m\u001b[43m)\u001b[49m\n\u001b[0;32m     97\u001b[0m \u001b[38;5;28;01mexcept\u001b[39;00m \u001b[38;5;167;01mException\u001b[39;00m:\n\u001b[0;32m     98\u001b[0m     _await_result(\u001b[38;5;28mself\u001b[39m\u001b[38;5;241m.\u001b[39m_policy\u001b[38;5;241m.\u001b[39mon_exception, request)\n",
      "File \u001b[1;32mc:\\Users\\pablosal\\AppData\\Local\\anaconda3\\envs\\mediindexer\\lib\\site-packages\\azure\\core\\pipeline\\_base.py:128\u001b[0m, in \u001b[0;36m_TransportRunner.send\u001b[1;34m(self, request)\u001b[0m\n\u001b[0;32m    118\u001b[0m \u001b[38;5;250m\u001b[39m\u001b[38;5;124;03m\"\"\"HTTP transport send method.\u001b[39;00m\n\u001b[0;32m    119\u001b[0m \n\u001b[0;32m    120\u001b[0m \u001b[38;5;124;03m:param request: The PipelineRequest object.\u001b[39;00m\n\u001b[1;32m   (...)\u001b[0m\n\u001b[0;32m    123\u001b[0m \u001b[38;5;124;03m:rtype: ~azure.core.pipeline.PipelineResponse\u001b[39;00m\n\u001b[0;32m    124\u001b[0m \u001b[38;5;124;03m\"\"\"\u001b[39;00m\n\u001b[0;32m    125\u001b[0m cleanup_kwargs_for_transport(request\u001b[38;5;241m.\u001b[39mcontext\u001b[38;5;241m.\u001b[39moptions)\n\u001b[0;32m    126\u001b[0m \u001b[38;5;28;01mreturn\u001b[39;00m PipelineResponse(\n\u001b[0;32m    127\u001b[0m     request\u001b[38;5;241m.\u001b[39mhttp_request,\n\u001b[1;32m--> 128\u001b[0m     \u001b[38;5;28mself\u001b[39m\u001b[38;5;241m.\u001b[39m_sender\u001b[38;5;241m.\u001b[39msend(request\u001b[38;5;241m.\u001b[39mhttp_request, \u001b[38;5;241m*\u001b[39m\u001b[38;5;241m*\u001b[39mrequest\u001b[38;5;241m.\u001b[39mcontext\u001b[38;5;241m.\u001b[39moptions),\n\u001b[0;32m    129\u001b[0m     context\u001b[38;5;241m=\u001b[39mrequest\u001b[38;5;241m.\u001b[39mcontext,\n\u001b[0;32m    130\u001b[0m )\n",
      "File \u001b[1;32mc:\\Users\\pablosal\\AppData\\Local\\anaconda3\\envs\\mediindexer\\lib\\site-packages\\azure\\core\\pipeline\\transport\\_requests_basic.py:409\u001b[0m, in \u001b[0;36mRequestsTransport.send\u001b[1;34m(self, request, proxies, **kwargs)\u001b[0m\n\u001b[0;32m    406\u001b[0m     error \u001b[38;5;241m=\u001b[39m ServiceRequestError(err, error\u001b[38;5;241m=\u001b[39merr)\n\u001b[0;32m    408\u001b[0m \u001b[38;5;28;01mif\u001b[39;00m error:\n\u001b[1;32m--> 409\u001b[0m     \u001b[38;5;28;01mraise\u001b[39;00m error\n\u001b[0;32m    410\u001b[0m \u001b[38;5;28;01mif\u001b[39;00m _is_rest(request):\n\u001b[0;32m    411\u001b[0m     \u001b[38;5;28;01mfrom\u001b[39;00m\u001b[38;5;250m \u001b[39m\u001b[38;5;21;01mazure\u001b[39;00m\u001b[38;5;21;01m.\u001b[39;00m\u001b[38;5;21;01mcore\u001b[39;00m\u001b[38;5;21;01m.\u001b[39;00m\u001b[38;5;21;01mrest\u001b[39;00m\u001b[38;5;21;01m.\u001b[39;00m\u001b[38;5;21;01m_requests_basic\u001b[39;00m\u001b[38;5;250m \u001b[39m\u001b[38;5;28;01mimport\u001b[39;00m RestRequestsTransportResponse\n",
      "\u001b[1;31mServiceRequestError\u001b[0m: <urllib3.connection.HTTPSConnection object at 0x0000027A5B32EE30>: Failed to resolve 'search-ai-factory-centralus.search.windows.net' ([Errno 11002] getaddrinfo failed)"
     ]
    }
   ],
   "source": [
    "# Hybrid retrieval + rerank\n",
    "r = search_client.search(\n",
    "    search_text=search_query,\n",
    "    top=5,\n",
    "    vector_queries=[\n",
    "        VectorizedQuery(vector=search_vector.data[0].embedding, exhaustive=True, k_nearest_neighbors=50, fields=\"vector\", weight=0.5),\n",
    "    ],\n",
    "    query_type=QueryType.SEMANTIC,\n",
    "    semantic_configuration_name=\"policy-index-semantic-config\",\n",
    "    query_language=\"en-us\",\n",
    "    query_caption=QueryCaptionType.EXTRACTIVE,\n",
    "    query_answer=QueryAnswerType.EXTRACTIVE,\n",
    ")\n",
    "\n",
    "# Iterate through the search results and print all metadata\n",
    "for doc in r:\n",
    "    content = doc[\"chunk\"].replace(\"\\n\", \" \")[:1000]\n",
    "    print(\n",
    "        f\"score: {doc['@search.score']}, reranker: {doc['@search.reranker_score']}. {content}\"\n",
    "    )"
   ]
  }
 ],
 "metadata": {
  "kernelspec": {
   "display_name": "mediindexer",
   "language": "python",
   "name": "python3"
  },
  "language_info": {
   "codemirror_mode": {
    "name": "ipython",
    "version": 3
   },
   "file_extension": ".py",
   "mimetype": "text/x-python",
   "name": "python",
   "nbconvert_exporter": "python",
   "pygments_lexer": "ipython3",
   "version": "3.10.16"
  }
 },
 "nbformat": 4,
 "nbformat_minor": 2
}
